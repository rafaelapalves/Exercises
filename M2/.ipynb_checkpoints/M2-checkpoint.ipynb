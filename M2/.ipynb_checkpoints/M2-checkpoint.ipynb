{
 "cells": [
  {
   "cell_type": "code",
   "execution_count": 1,
   "id": "3617dea0",
   "metadata": {
    "scrolled": true
   },
   "outputs": [
    {
     "name": "stdout",
     "output_type": "stream",
     "text": [
      "Nome: rafa\n",
      "Sexo: f\n",
      "Idade: 32\n",
      "Finalizar: Stop\n",
      "Continuar: Enter\n",
      "\n",
      "Nome: mariah\n",
      "Sexo: f\n",
      "Idade: 6\n",
      "Finalizar: Stop\n",
      "Continuar: Enter\n",
      "\n",
      "Nome: junior\n",
      "Sexo: m\n",
      "Idade: 59\n",
      "Finalizar: Stop\n",
      "Continuar: Enter\n",
      "stop\n",
      "Quantidade de pessoas cadastradas:  3\n"
     ]
    }
   ],
   "source": [
    "data={}\n",
    "\n",
    "dataname=[]\n",
    "datasex=[]\n",
    "dataage=[]\n",
    "while(True):\n",
    "    data={\n",
    "        'name':input(\"Nome: \"),\n",
    "        'sex':input(\"Sexo: \"),\n",
    "        'age':input(\"Idade: \")\n",
    "    }\n",
    "    cont=input(\"Finalizar: Stop\\nContinuar: Enter\\n\")\n",
    "    dataname.append(data['name'])\n",
    "    datasex.append(data['sex'])\n",
    "    dataage.append(data['age'])\n",
    "    if(cont==\"stop\"):break\n",
    "\n",
    "    \n",
    "people=len(dataname)   \n",
    "print(\"Quantidade de pessoas cadastradas: \",people)\n",
    "#dataname\n",
    "#datasex\n",
    "#dataage"
   ]
  },
  {
   "cell_type": "code",
   "execution_count": 106,
   "id": "d56f7186",
   "metadata": {},
   "outputs": [
    {
     "name": "stdout",
     "output_type": "stream",
     "text": [
      "Nome: rafa\n",
      "Sexo: f\n",
      "Idade: 32\n",
      "Finalizar: Stop\n",
      "Continuar: Enter\n",
      "\n",
      "Nome: mariah\n",
      "Sexo: f\n",
      "Idade: 6\n",
      "Finalizar: Stop\n",
      "Continuar: Enter\n",
      "stop\n",
      "Média de idade:  19.0\n"
     ]
    },
    {
     "data": {
      "text/plain": [
       "[32, 6]"
      ]
     },
     "execution_count": 106,
     "metadata": {},
     "output_type": "execute_result"
    }
   ],
   "source": [
    "data={}\n",
    "\n",
    "dataname=[]\n",
    "datasex=[]\n",
    "dataage=[]\n",
    "while(True):\n",
    "    data['name']=input(\"Nome: \")\n",
    "    data['sex']=input(\"Sexo: \")\n",
    "    data['age']=int(input(\"Idade: \"))\n",
    "    cont=input(\"Finalizar: Stop\\nContinuar: Enter\\n\")\n",
    "    dataname.append(data['name'])\n",
    "    datasex.append(data['sex'])\n",
    "    dataage.append(data['age'])\n",
    "    if(cont==\"stop\"):break\n",
    "\n",
    "people=len(dataname)\n",
    "t_age=sum(dataage)\n",
    "m_age=t_age/people\n",
    "print(\"Média de idade: \",m_age)\n",
    "#dataname\n",
    "#datasex\n",
    "#dataage"
   ]
  },
  {
   "cell_type": "code",
   "execution_count": 112,
   "id": "02fe9257",
   "metadata": {},
   "outputs": [
    {
     "name": "stdout",
     "output_type": "stream",
     "text": [
      "Nome: rafa\n",
      "Sexo: F=feminino ou M=masculino f\n",
      "Idade: 32\n",
      "Finalizar: Stop\n",
      "Continuar: Enter\n",
      "\n",
      "Nome: mariah\n",
      "Sexo: F=feminino ou M=masculino f\n",
      "Idade: 6\n",
      "Finalizar: Stop\n",
      "Continuar: Enter\n",
      "\n",
      "Nome: junior\n",
      "Sexo: F=feminino ou M=masculino m\n",
      "Idade: 59\n",
      "Finalizar: Stop\n",
      "Continuar: Enter\n",
      "stop\n"
     ]
    }
   ],
   "source": [
    "data={}\n",
    "\n",
    "dataname=[]\n",
    "datasex=[]\n",
    "dataage=[]\n",
    "datawomen=[]\n",
    "while(True):\n",
    "    data['name']=input(\"Nome: \")\n",
    "    data['sex']=input(\"Sexo: F=feminino ou M=masculino \")\n",
    "    data['age']=int(input(\"Idade: \"))\n",
    "    cont=input(\"Finalizar: Stop\\nContinuar: Enter\\n\")\n",
    "    dataname.append(data['name'])\n",
    "    datasex.append(data['sex'])\n",
    "    if(data['sex']==\"f\" or data['sex']==\"F\"):\n",
    "        datawomen.append(data['name'])\n",
    "    dataage.append(data['age'])\n",
    "    if(cont==\"stop\"):break\n",
    "\n",
    "print(\"Mulheres: \",datawomen)\n",
    "#dataname\n",
    "#datasex\n",
    "#dataage"
   ]
  },
  {
   "cell_type": "code",
   "execution_count": 117,
   "id": "d2d0c0ae",
   "metadata": {},
   "outputs": [
    {
     "name": "stdout",
     "output_type": "stream",
     "text": [
      "Nome: rafa\n",
      "Sexo: f\n",
      "Idade: 32\n",
      "Finalizar: Stop\n",
      "Continuar: Enter\n",
      "\n",
      "Nome: mariah\n",
      "Sexo: f\n",
      "Idade: 6\n",
      "Finalizar: Stop\n",
      "Continuar: Enter\n",
      "\n",
      "Nome: junior\n",
      "Sexo: m\n",
      "Idade: 59\n",
      "Finalizar: Stop\n",
      "Continuar: Enter\n",
      "\n",
      "Nome: rosa\n",
      "Sexo: f\n",
      "Idade: 60\n",
      "Finalizar: Stop\n",
      "Continuar: Enter\n",
      "stop\n",
      "['junior', 'rosa']\n"
     ]
    }
   ],
   "source": [
    "data={}\n",
    "\n",
    "dataname=[]\n",
    "datasex=[]\n",
    "dataage=[]\n",
    "while(True):\n",
    "    data['name']=input(\"Nome: \")\n",
    "    data['sex']=input(\"Sexo: \")\n",
    "    data['age']=int(input(\"Idade: \"))\n",
    "    cont=input(\"Finalizar: Stop\\nContinuar: Enter\\n\")\n",
    "    dataname.append(data['name'])\n",
    "    datasex.append(data['sex'])\n",
    "    dataage.append(data['age'])\n",
    "    if(cont==\"stop\"):break\n",
    "\n",
    "maior=[]\n",
    "people=len(dataname)\n",
    "t_age=sum(dataage)\n",
    "m_age=t_age/people\n",
    "for i in range(len(dataage)):\n",
    "    if(dataage[i]>m_age):\n",
    "        maior.append(dataname[i])\n",
    "print(maior)\n",
    "#dataname\n",
    "#datasex\n",
    "#dataage"
   ]
  },
  {
   "cell_type": "code",
   "execution_count": null,
   "id": "3ac23189",
   "metadata": {},
   "outputs": [],
   "source": [
    "#2\n",
    "t=1,2,3,4\n",
    "i=int(input(\"Posição:\"))\n",
    "print(t[i])"
   ]
  },
  {
   "cell_type": "code",
   "execution_count": null,
   "id": "ea333418",
   "metadata": {},
   "outputs": [],
   "source": [
    "#3\n",
    "t=('Aluno(a)','Universidade','Nota','Resultado')\n",
    "\n",
    "w,x,y,z=t\n",
    "\n",
    "w=input(\"Aluno: \")\n",
    "x=input(\"Universidade: \")\n",
    "y=float(input(\"Nota: \"))\n",
    "z=float(input(\"Resultado: \"))\n",
    "\n",
    "print(w,type(w))\n",
    "print(x,type(x))\n",
    "print(y,type(y))\n",
    "print(z,type(z))"
   ]
  },
  {
   "cell_type": "code",
   "execution_count": null,
   "id": "ea943b38",
   "metadata": {},
   "outputs": [],
   "source": [
    "t=('Aluno(a)','Universidade','Nota','Resultado')\n",
    "\n",
    "w=input(\"Aluno: \")\n",
    "x=input(\"Universidade: \")\n",
    "y=float(input(\"Nota: \"))\n",
    "z=float(input(\"Resultado: \"))\n",
    "\n",
    "a={t[0]:w,t[1]:x,t[2]:y,t[3]:z}\n",
    "\n",
    "for key,value in a.items():\n",
    "    print(key,value)\n",
    "    print(type(value))"
   ]
  },
  {
   "cell_type": "code",
   "execution_count": null,
   "id": "b8f217dc",
   "metadata": {},
   "outputs": [],
   "source": [
    "#4.a\n",
    "setx=set([\"apple\",\"mango\"])\n",
    "sety=set([\"mango\",\"orange\"])\n",
    "setz=set([\"mango\"])\n",
    "\n",
    "setw=set()\n",
    "setw=setx|sety|setz\n",
    "print(setw)"
   ]
  },
  {
   "cell_type": "code",
   "execution_count": null,
   "id": "6877fb6d",
   "metadata": {},
   "outputs": [],
   "source": [
    "#4.b\n",
    "setx=set([\"apple\",\"mango\"])\n",
    "sety=set([\"mango\",\"orange\"])\n",
    "setz=set([\"mango\"])\n",
    "\n",
    "setw=set()\n",
    "setw=setx&sety\n",
    "print(setw)"
   ]
  },
  {
   "cell_type": "code",
   "execution_count": null,
   "id": "c2caf7eb",
   "metadata": {},
   "outputs": [],
   "source": [
    "#4.c\n",
    "setx=set([\"apple\",\"mango\"])\n",
    "sety=set([\"mango\",\"orange\"])\n",
    "setz=set([\"mango\"])\n",
    "\n",
    "w=setx.issubset(sety)\n",
    "k=setx.issubset(setz)\n",
    "\n",
    "print(w,k)"
   ]
  },
  {
   "cell_type": "code",
   "execution_count": null,
   "id": "64b33325",
   "metadata": {},
   "outputs": [],
   "source": [
    "#4.d\n",
    "setx=set([\"apple\",\"mango\"])\n",
    "sety=set([\"mango\",\"orange\"])\n",
    "setz=set([\"mango\"])\n",
    "\n",
    "setw=set()\n",
    "setw=setx-sety\n",
    "print(setw)"
   ]
  },
  {
   "cell_type": "code",
   "execution_count": null,
   "id": "6d94107d",
   "metadata": {},
   "outputs": [],
   "source": [
    "DicionárioOrdenado={}\n",
    "\n",
    "DicionárioOrdenado=([('color1','Red'),('color2','Green'),('color3','Blue')])\n",
    "\n",
    "DicionárioOrdenado.insert(0,('color4','Orange'))\n",
    "\n",
    "DicionárioOrdenado"
   ]
  },
  {
   "cell_type": "code",
   "execution_count": null,
   "id": "8a8f7bb0",
   "metadata": {},
   "outputs": [],
   "source": [
    "s=input(\"Palavra:\")\n",
    "\n",
    "def right_justify(monty):\n",
    "    monty=s.rjust(70)\n",
    "    return monty\n",
    "\n",
    "right_justify(s)"
   ]
  },
  {
   "cell_type": "code",
   "execution_count": null,
   "id": "dd533134",
   "metadata": {},
   "outputs": [],
   "source": [
    "#7a.\n",
    "def do_twice(f):\n",
    "    f()\n",
    "    f()\n",
    "\n",
    "def print_spam():\n",
    "    print('spam')\n",
    "    \n",
    "do_twice(print_spam)"
   ]
  },
  {
   "cell_type": "code",
   "execution_count": null,
   "id": "6f78115e",
   "metadata": {},
   "outputs": [],
   "source": [
    "#7b.\n",
    "def do_twice(f,g):\n",
    "    f(g)\n",
    "    f(g)\n",
    "    \n",
    "g=input(\"Nome: \")\n",
    "def print_valor(g):\n",
    "    print(g)\n",
    "\n",
    "do_twice(print_valor,'Olá, %s'%g)"
   ]
  },
  {
   "cell_type": "code",
   "execution_count": null,
   "id": "aa1e1a8f",
   "metadata": {},
   "outputs": [],
   "source": [
    "import mens\n",
    "\n",
    "mens.print_t(input(\"Mensagem: \"))"
   ]
  },
  {
   "cell_type": "code",
   "execution_count": null,
   "id": "d755ba12",
   "metadata": {},
   "outputs": [],
   "source": [
    "import multip\n",
    "\n",
    "i=int(input(\"I: \"))\n",
    "j=int(input(\"J: \"))\n",
    "\n",
    "multip.valor(i,j)"
   ]
  },
  {
   "cell_type": "code",
   "execution_count": null,
   "id": "49680cd4",
   "metadata": {},
   "outputs": [],
   "source": [
    "lista=[]\n",
    "num=[]\n",
    "letter=[]\n",
    "\n",
    "i=0\n",
    "while(True):\n",
    "    lista.append(input(\"Caracter:\"))\n",
    "    if(lista[i]=='stop'):\n",
    "        break\n",
    "    i+=1\n",
    "\n",
    "listanum=['0','1','2','3','4','5','6','7','8','9']\n",
    "\n",
    "for j in range(i):\n",
    "    for x in range(10):\n",
    "        if(listanum[x] in lista[j]):\n",
    "            num.append(lista[j])\n",
    "    if(lista[j].isalpha()==True):\n",
    "        letter.append(lista[j])\n",
    "\n",
    "num.reverse()\n",
    "L=letter+num\n",
    "print(letter)  \n",
    "print(num)\n",
    "print(L)"
   ]
  }
 ],
 "metadata": {
  "kernelspec": {
   "display_name": "Python 3 (ipykernel)",
   "language": "python",
   "name": "python3"
  },
  "language_info": {
   "codemirror_mode": {
    "name": "ipython",
    "version": 3
   },
   "file_extension": ".py",
   "mimetype": "text/x-python",
   "name": "python",
   "nbconvert_exporter": "python",
   "pygments_lexer": "ipython3",
   "version": "3.9.12"
  }
 },
 "nbformat": 4,
 "nbformat_minor": 5
}
