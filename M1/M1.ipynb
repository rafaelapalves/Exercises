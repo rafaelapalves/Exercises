{
 "cells": [
  {
   "cell_type": "code",
   "execution_count": 47,
   "id": "6afb07f3",
   "metadata": {
    "scrolled": true
   },
   "outputs": [
    {
     "name": "stdout",
     "output_type": "stream",
     "text": [
      "Nome:14\n",
      "Fim\n"
     ]
    }
   ],
   "source": [
    "#1\n",
    "name=input(\"Nome:\")\n",
    "print(name)"
   ]
  },
  {
   "cell_type": "code",
   "execution_count": null,
   "id": "b66d964e",
   "metadata": {},
   "outputs": [],
   "source": [
    "#2\n",
    "a=2\n",
    "b=5\n",
    "result=(5*a)*(3*b)\n",
    "print(result)"
   ]
  },
  {
   "cell_type": "code",
   "execution_count": null,
   "id": "34b12798",
   "metadata": {},
   "outputs": [],
   "source": [
    "#3\n",
    "a=2\n",
    "b=5\n",
    "c=5\n",
    "print(a+b+c)"
   ]
  },
  {
   "cell_type": "code",
   "execution_count": null,
   "id": "2bf4866f",
   "metadata": {},
   "outputs": [],
   "source": [
    "#4\n",
    "x=int(input(\"Valor de X: \"))\n",
    "y=int(input(\"Valor de Y: \"))\n",
    "operacao=input(\"+, -, *, /: \")\n",
    "if(operacao==\"+\"):\n",
    "    print(x+y)\n",
    "elif(operacao==\"-\"):\n",
    "    print(x-y)\n",
    "elif(operacao==\"*\"):\n",
    "    print(x*y)\n",
    "elif(operacao==\"/\"):\n",
    "    print(x/y)\n",
    "else:\n",
    "    print(\"Operacao incorreta\")"
   ]
  },
  {
   "cell_type": "code",
   "execution_count": null,
   "id": "5a2cd39a",
   "metadata": {},
   "outputs": [],
   "source": [
    "#5 a\n",
    "i=1\n",
    "while(i<=10):\n",
    "    print(i)\n",
    "    i+=1"
   ]
  },
  {
   "cell_type": "code",
   "execution_count": null,
   "id": "4c714ed2",
   "metadata": {},
   "outputs": [],
   "source": [
    "#5 b\n",
    "for i in range(1,11):\n",
    "    print(i)"
   ]
  },
  {
   "cell_type": "code",
   "execution_count": null,
   "id": "61aa2a55",
   "metadata": {},
   "outputs": [],
   "source": [
    "#6 a\n",
    "i=1\n",
    "par=0\n",
    "impar=0\n",
    "somapar=0\n",
    "somaimpar=0\n",
    "while(i<=10):\n",
    "    if(i%2==0):\n",
    "        par+=1\n",
    "        somapar=somapar+i\n",
    "    elif(i%2==1):\n",
    "        impar+=1\n",
    "        somaimpar=somaimpar+i\n",
    "    i+=1\n",
    "print(\"Pares: \",par)\n",
    "print(\"Soma dos pares: \",somapar)\n",
    "print(\"Impares: \",impar)\n",
    "print(\"Soma dos impares: \",somaimpar)"
   ]
  },
  {
   "cell_type": "code",
   "execution_count": null,
   "id": "13eb7e2d",
   "metadata": {},
   "outputs": [],
   "source": [
    "#6 b\n",
    "par=0\n",
    "impar=0\n",
    "numpar=[]\n",
    "numimpar=[]\n",
    "for i in range(1,11):\n",
    "    if(i%2==0):\n",
    "        numpar.append(i)\n",
    "        somapar=sum(numpar)\n",
    "        par+=1\n",
    "    elif(i%2==1):\n",
    "        numimpar.append(i)\n",
    "        somaimpar=sum(numimpar)\n",
    "        impar+=1\n",
    "print(\"Par: \",par)\n",
    "print(\"soma par: \",somapar)\n",
    "print(\"Impar: \",impar)\n",
    "print(\"Soma impar: \",somaimpar)"
   ]
  },
  {
   "cell_type": "code",
   "execution_count": null,
   "id": "ea8aaf07",
   "metadata": {},
   "outputs": [],
   "source": [
    "#7 a\n",
    "a=int(input(\"A: \"))\n",
    "b=int(input(\"B: \"))\n",
    "c=int(input(\"C: \"))\n",
    "delta=(b**2)-(4*a*c)\n",
    "x1=(-b+(delta**0.5))/(2*a)\n",
    "x2=(-b-(delta**0.5))/(2*a)\n",
    "print(\"X1:\",x1)\n",
    "print(\"X2:\",x2)"
   ]
  },
  {
   "cell_type": "code",
   "execution_count": null,
   "id": "2494a350",
   "metadata": {},
   "outputs": [],
   "source": [
    "#7 b\n",
    "import math\n",
    "a=int(input(\"A: \"))\n",
    "b=int(input(\"B: \"))\n",
    "c=int(input(\"C: \"))\n",
    "delta=(b**2)-(4*a*c)\n",
    "x1=(-b+(math.sqrt(delta)))/(2*a)\n",
    "x2=(-b-(math.sqrt(delta)))/(2*a)\n",
    "print(\"X1:\",x1)\n",
    "print(\"X2:\",x2)"
   ]
  },
  {
   "cell_type": "code",
   "execution_count": null,
   "id": "30050bf9",
   "metadata": {},
   "outputs": [],
   "source": [
    "#8\n",
    "import math\n",
    "a=int(input(\"a: \"))\n",
    "b=int(input(\"b: \"))\n",
    "c=int(input(\"c: \"))\n",
    "\n",
    "def bhaskara (a, b, c):\n",
    "    delta = (b ** 2) - (4 * a * c)\n",
    "    if (delta < 0):\n",
    "        return None\n",
    "    else:\n",
    "        raizes = []\n",
    "        m1 = math.sqrt(delta)\n",
    "        r1 =(-b + m1) / (2 * a)\n",
    "        raizes.append(r1)\n",
    "        r2 =(-b - m1) / (2 * a)\n",
    "        raizes.append(r2)\n",
    "        return raizes\n",
    "\n",
    "#executar a função:\n",
    "resultado = bhaskara(a,b,c)\n",
    "print(resultado)"
   ]
  },
  {
   "cell_type": "code",
   "execution_count": null,
   "id": "3c9ccec0",
   "metadata": {},
   "outputs": [],
   "source": [
    "#9\n",
    "s='Mentorama'\n",
    "M=s.upper()\n",
    "print(M)\n",
    "r=s[::-1]\n",
    "print(r)\n",
    "for v in \"Mentorama\":\n",
    "    if(v==\"a\" or v==\"e\" or v==\"i\" or v==\"o\" or v==\"u\"):\n",
    "        print(v)"
   ]
  },
  {
   "cell_type": "code",
   "execution_count": null,
   "id": "df8964df",
   "metadata": {},
   "outputs": [],
   "source": [
    "#10\n",
    "nome=input(\"Nome: \")\n",
    "sobrenome=input(\"Sobrenome: \")\n",
    "idade=input(\"Idade: \")\n",
    "cidade=input(\"Cidade: \")\n",
    "ddd=input(\"DDD: \")\n",
    "telefone=input(\"Telefone: \")\n",
    "print(nome, sobrenome)\n",
    "\n",
    "print('(',ddd,')',telefone)\n",
    "print(idade)\n",
    "print(cidade)"
   ]
  }
 ],
 "metadata": {
  "kernelspec": {
   "display_name": "Python 3 (ipykernel)",
   "language": "python",
   "name": "python3"
  },
  "language_info": {
   "codemirror_mode": {
    "name": "ipython",
    "version": 3
   },
   "file_extension": ".py",
   "mimetype": "text/x-python",
   "name": "python",
   "nbconvert_exporter": "python",
   "pygments_lexer": "ipython3",
   "version": "3.9.12"
  }
 },
 "nbformat": 4,
 "nbformat_minor": 5
}
