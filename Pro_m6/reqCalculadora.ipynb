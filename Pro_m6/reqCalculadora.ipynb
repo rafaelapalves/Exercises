{
 "cells": [
  {
   "cell_type": "code",
   "execution_count": 16,
   "id": "150bcac5",
   "metadata": {},
   "outputs": [],
   "source": [
    "from requests import get, post\n",
    "from json import loads"
   ]
  },
  {
   "cell_type": "code",
   "execution_count": 17,
   "id": "8701399d",
   "metadata": {},
   "outputs": [],
   "source": [
    "resp = get(\"http://127.0.0.1:8000\")"
   ]
  },
  {
   "cell_type": "code",
   "execution_count": 18,
   "id": "76e45269",
   "metadata": {},
   "outputs": [
    {
     "data": {
      "text/plain": [
       "'{\"message\":\"Operações numéricas.\"}'"
      ]
     },
     "execution_count": 18,
     "metadata": {},
     "output_type": "execute_result"
    }
   ],
   "source": [
    "resp.text"
   ]
  },
  {
   "cell_type": "code",
   "execution_count": 24,
   "id": "1558ee24",
   "metadata": {},
   "outputs": [],
   "source": [
    "resp = post(\"http://127.0.0.1:8000/calculo\", json = {\"valor1\": 6, \"valor2\": 8, \"order\": \"soma\"})"
   ]
  },
  {
   "cell_type": "code",
   "execution_count": 25,
   "id": "3ff1fa99",
   "metadata": {},
   "outputs": [
    {
     "data": {
      "text/plain": [
       "'{\"valor1\":6,\"valor2\":8,\"order\":\"soma\"}'"
      ]
     },
     "execution_count": 25,
     "metadata": {},
     "output_type": "execute_result"
    }
   ],
   "source": [
    "resp.text"
   ]
  },
  {
   "cell_type": "code",
   "execution_count": null,
   "id": "dcaa735c",
   "metadata": {},
   "outputs": [],
   "source": []
  }
 ],
 "metadata": {
  "kernelspec": {
   "display_name": "Python 3 (ipykernel)",
   "language": "python",
   "name": "python3"
  },
  "language_info": {
   "codemirror_mode": {
    "name": "ipython",
    "version": 3
   },
   "file_extension": ".py",
   "mimetype": "text/x-python",
   "name": "python",
   "nbconvert_exporter": "python",
   "pygments_lexer": "ipython3",
   "version": "3.9.12"
  }
 },
 "nbformat": 4,
 "nbformat_minor": 5
}
