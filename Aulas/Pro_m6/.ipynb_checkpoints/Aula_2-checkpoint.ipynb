{
 "cells": [
  {
   "cell_type": "markdown",
   "id": "467f56ee",
   "metadata": {},
   "source": [
    "    Vamos testar a nossa API enviando uma requisição POST"
   ]
  },
  {
   "cell_type": "code",
   "execution_count": 1,
   "id": "cad61a13",
   "metadata": {},
   "outputs": [],
   "source": [
    "from requests import post, get"
   ]
  },
  {
   "cell_type": "code",
   "execution_count": 2,
   "id": "243677b8",
   "metadata": {},
   "outputs": [],
   "source": [
    "resp = get(\"http://127.0.0.1:5000/novarota\")"
   ]
  },
  {
   "cell_type": "code",
   "execution_count": 3,
   "id": "b3c25eb6",
   "metadata": {},
   "outputs": [
    {
     "data": {
      "text/plain": [
       "'<h2>Esta é uma nova rota</h2>'"
      ]
     },
     "execution_count": 3,
     "metadata": {},
     "output_type": "execute_result"
    }
   ],
   "source": [
    "resp.text"
   ]
  },
  {
   "cell_type": "code",
   "execution_count": 8,
   "id": "91c75b65",
   "metadata": {},
   "outputs": [],
   "source": [
    "resp = post(\"http://localhost:5000/api\", json = {\"key\" : \"value\"})"
   ]
  },
  {
   "cell_type": "code",
   "execution_count": 9,
   "id": "1394c744",
   "metadata": {},
   "outputs": [
    {
     "data": {
      "text/plain": [
       "True"
      ]
     },
     "execution_count": 9,
     "metadata": {},
     "output_type": "execute_result"
    }
   ],
   "source": [
    "resp.ok"
   ]
  },
  {
   "cell_type": "code",
   "execution_count": 10,
   "id": "d144fd08",
   "metadata": {},
   "outputs": [
    {
     "data": {
      "text/plain": [
       "'{\"key\":\"value\"}\\n'"
      ]
     },
     "execution_count": 10,
     "metadata": {},
     "output_type": "execute_result"
    }
   ],
   "source": [
    "resp.text"
   ]
  },
  {
   "cell_type": "code",
   "execution_count": 11,
   "id": "f42d28aa",
   "metadata": {},
   "outputs": [
    {
     "data": {
      "text/plain": [
       "'requisição GET'"
      ]
     },
     "execution_count": 11,
     "metadata": {},
     "output_type": "execute_result"
    }
   ],
   "source": [
    "get(\"http://localhost:5000/api\").text"
   ]
  },
  {
   "cell_type": "code",
   "execution_count": null,
   "id": "4f93b0e4",
   "metadata": {},
   "outputs": [],
   "source": []
  }
 ],
 "metadata": {
  "kernelspec": {
   "display_name": "Python 3 (ipykernel)",
   "language": "python",
   "name": "python3"
  },
  "language_info": {
   "codemirror_mode": {
    "name": "ipython",
    "version": 3
   },
   "file_extension": ".py",
   "mimetype": "text/x-python",
   "name": "python",
   "nbconvert_exporter": "python",
   "pygments_lexer": "ipython3",
   "version": "3.9.12"
  }
 },
 "nbformat": 4,
 "nbformat_minor": 5
}
