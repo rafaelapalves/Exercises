{
 "cells": [
  {
   "cell_type": "markdown",
   "id": "650d09f1",
   "metadata": {},
   "source": [
    "    Vamos testar a nossa API enviando uma requisição POST"
   ]
  },
  {
   "cell_type": "code",
   "execution_count": 1,
   "id": "16ecd9f5",
   "metadata": {},
   "outputs": [],
   "source": [
    "from requests import post, get"
   ]
  },
  {
   "cell_type": "code",
   "execution_count": 2,
   "id": "fe1c9485",
   "metadata": {},
   "outputs": [],
   "source": [
    "resp = get(\"http://127.0.0.1:5000/novarota\")"
   ]
  },
  {
   "cell_type": "code",
   "execution_count": 3,
   "id": "0d5debdd",
   "metadata": {},
   "outputs": [
    {
     "data": {
      "text/plain": [
       "'<h2>Esta é uma nova rota</h2>'"
      ]
     },
     "execution_count": 3,
     "metadata": {},
     "output_type": "execute_result"
    }
   ],
   "source": [
    "resp.text"
   ]
  },
  {
   "cell_type": "code",
   "execution_count": 8,
   "id": "b3af1a9c",
   "metadata": {},
   "outputs": [],
   "source": [
    "resp = post(\"http://localhost:5000/api\", json = {\"key\" : \"value\"})"
   ]
  },
  {
   "cell_type": "code",
   "execution_count": 9,
   "id": "05779984",
   "metadata": {},
   "outputs": [
    {
     "data": {
      "text/plain": [
       "True"
      ]
     },
     "execution_count": 9,
     "metadata": {},
     "output_type": "execute_result"
    }
   ],
   "source": [
    "resp.ok"
   ]
  },
  {
   "cell_type": "code",
   "execution_count": 10,
   "id": "c58f7376",
   "metadata": {},
   "outputs": [
    {
     "data": {
      "text/plain": [
       "'{\"key\":\"value\"}\\n'"
      ]
     },
     "execution_count": 10,
     "metadata": {},
     "output_type": "execute_result"
    }
   ],
   "source": [
    "resp.text"
   ]
  },
  {
   "cell_type": "code",
   "execution_count": 11,
   "id": "e2a95a19",
   "metadata": {},
   "outputs": [
    {
     "data": {
      "text/plain": [
       "'requisição GET'"
      ]
     },
     "execution_count": 11,
     "metadata": {},
     "output_type": "execute_result"
    }
   ],
   "source": [
    "get(\"http://localhost:5000/api\").text"
   ]
  },
  {
   "cell_type": "code",
   "execution_count": null,
   "id": "1e887416",
   "metadata": {},
   "outputs": [],
   "source": []
  }
 ],
 "metadata": {
  "kernelspec": {
   "display_name": "Python 3 (ipykernel)",
   "language": "python",
   "name": "python3"
  },
  "language_info": {
   "codemirror_mode": {
    "name": "ipython",
    "version": 3
   },
   "file_extension": ".py",
   "mimetype": "text/x-python",
   "name": "python",
   "nbconvert_exporter": "python",
   "pygments_lexer": "ipython3",
   "version": "3.9.12"
  }
 },
 "nbformat": 4,
 "nbformat_minor": 5
}
