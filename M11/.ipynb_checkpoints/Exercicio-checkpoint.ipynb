{
 "cells": [
  {
   "cell_type": "code",
   "execution_count": 1,
   "id": "d438a525",
   "metadata": {},
   "outputs": [],
   "source": [
    "from sklearn import datasets, svm, metrics\n",
    "from sklearn.model_selection import train_test_split\n",
    "import matplotlib.pyplot as plt\n",
    "\n",
    "digits = datasets.load_digits()"
   ]
  },
  {
   "cell_type": "code",
   "execution_count": 2,
   "id": "618983d7",
   "metadata": {},
   "outputs": [],
   "source": [
    "#b\n",
    "n_samples = len(digits.images)\n",
    "data = digits.images.reshape((n_samples, -1))\n",
    "clf =svm.SVC(gamma=0.001)\n",
    "X_train, X_test, y_train, y_test = train_test_split(data, digits.target, test_size=0.2)"
   ]
  },
  {
   "cell_type": "code",
   "execution_count": 3,
   "id": "764afaa5",
   "metadata": {},
   "outputs": [
    {
     "name": "stdout",
     "output_type": "stream",
     "text": [
      "Cross Validation: [0.975      0.95277778 0.98328691 0.99164345 0.95821727]\n"
     ]
    }
   ],
   "source": [
    "#c\n",
    "from sklearn.model_selection import KFold, cross_val_score\n",
    "\n",
    "X, y = datasets.load_digits(return_X_y=True)\n",
    "k_folds = KFold(n_splits = 5)\n",
    "scores = cross_val_score(clf, X, y, cv = k_folds)\n",
    "\n",
    "print(\"Cross Validation:\", scores)"
   ]
  },
  {
   "cell_type": "code",
   "execution_count": 4,
   "id": "03d4e0b0",
   "metadata": {},
   "outputs": [],
   "source": [
    "#d\n",
    "param_grid = { \n",
    "  'C': [0.1, 1, 10, 100, 1000], \n",
    "  'gamma': [1, 0.1, 0.01, 0.001, 0.0001] \n",
    "}"
   ]
  },
  {
   "cell_type": "code",
   "execution_count": 5,
   "id": "6f05fdb4",
   "metadata": {},
   "outputs": [
    {
     "name": "stdout",
     "output_type": "stream",
     "text": [
      "Fitting 5 folds for each of 25 candidates, totalling 125 fits\n",
      "[CV 1/5] END ....................C=0.1, gamma=1;, score=0.108 total time=   1.1s\n",
      "[CV 2/5] END ....................C=0.1, gamma=1;, score=0.104 total time=   1.0s\n",
      "[CV 3/5] END ....................C=0.1, gamma=1;, score=0.105 total time=   1.0s\n",
      "[CV 4/5] END ....................C=0.1, gamma=1;, score=0.105 total time=   1.1s\n",
      "[CV 5/5] END ....................C=0.1, gamma=1;, score=0.105 total time=   1.0s\n",
      "[CV 1/5] END ..................C=0.1, gamma=0.1;, score=0.108 total time=   1.1s\n",
      "[CV 2/5] END ..................C=0.1, gamma=0.1;, score=0.104 total time=   0.9s\n",
      "[CV 3/5] END ..................C=0.1, gamma=0.1;, score=0.105 total time=   0.9s\n",
      "[CV 4/5] END ..................C=0.1, gamma=0.1;, score=0.105 total time=   0.9s\n",
      "[CV 5/5] END ..................C=0.1, gamma=0.1;, score=0.105 total time=   0.8s\n",
      "[CV 1/5] END .................C=0.1, gamma=0.01;, score=0.205 total time=   0.6s\n",
      "[CV 2/5] END .................C=0.1, gamma=0.01;, score=0.104 total time=   0.6s\n",
      "[CV 3/5] END .................C=0.1, gamma=0.01;, score=0.105 total time=   0.6s\n",
      "[CV 4/5] END .................C=0.1, gamma=0.01;, score=0.105 total time=   0.6s\n",
      "[CV 5/5] END .................C=0.1, gamma=0.01;, score=0.105 total time=   0.6s\n",
      "[CV 1/5] END ................C=0.1, gamma=0.001;, score=0.972 total time=   0.3s\n",
      "[CV 2/5] END ................C=0.1, gamma=0.001;, score=0.958 total time=   0.3s\n",
      "[CV 3/5] END ................C=0.1, gamma=0.001;, score=0.972 total time=   0.3s\n",
      "[CV 4/5] END ................C=0.1, gamma=0.001;, score=0.944 total time=   0.3s\n",
      "[CV 5/5] END ................C=0.1, gamma=0.001;, score=0.958 total time=   0.3s\n",
      "[CV 1/5] END ...............C=0.1, gamma=0.0001;, score=0.872 total time=   0.5s\n",
      "[CV 2/5] END ...............C=0.1, gamma=0.0001;, score=0.858 total time=   0.5s\n",
      "[CV 3/5] END ...............C=0.1, gamma=0.0001;, score=0.892 total time=   0.5s\n",
      "[CV 4/5] END ...............C=0.1, gamma=0.0001;, score=0.864 total time=   0.5s\n",
      "[CV 5/5] END ...............C=0.1, gamma=0.0001;, score=0.840 total time=   0.5s\n",
      "[CV 1/5] END ......................C=1, gamma=1;, score=0.108 total time=   1.0s\n",
      "[CV 2/5] END ......................C=1, gamma=1;, score=0.104 total time=   1.0s\n",
      "[CV 3/5] END ......................C=1, gamma=1;, score=0.105 total time=   1.0s\n",
      "[CV 4/5] END ......................C=1, gamma=1;, score=0.105 total time=   0.9s\n",
      "[CV 5/5] END ......................C=1, gamma=1;, score=0.105 total time=   1.0s\n",
      "[CV 1/5] END ....................C=1, gamma=0.1;, score=0.115 total time=   0.8s\n",
      "[CV 2/5] END ....................C=1, gamma=0.1;, score=0.108 total time=   0.8s\n",
      "[CV 3/5] END ....................C=1, gamma=0.1;, score=0.105 total time=   0.8s\n",
      "[CV 4/5] END ....................C=1, gamma=0.1;, score=0.105 total time=   0.9s\n",
      "[CV 5/5] END ....................C=1, gamma=0.1;, score=0.108 total time=   0.9s\n",
      "[CV 1/5] END ...................C=1, gamma=0.01;, score=0.837 total time=   0.7s\n",
      "[CV 2/5] END ...................C=1, gamma=0.01;, score=0.760 total time=   0.7s\n",
      "[CV 3/5] END ...................C=1, gamma=0.01;, score=0.760 total time=   0.7s\n",
      "[CV 4/5] END ...................C=1, gamma=0.01;, score=0.815 total time=   0.7s\n",
      "[CV 5/5] END ...................C=1, gamma=0.01;, score=0.774 total time=   0.7s\n",
      "[CV 1/5] END ..................C=1, gamma=0.001;, score=0.986 total time=   0.3s\n",
      "[CV 2/5] END ..................C=1, gamma=0.001;, score=0.993 total time=   0.2s\n",
      "[CV 3/5] END ..................C=1, gamma=0.001;, score=0.983 total time=   0.2s\n",
      "[CV 4/5] END ..................C=1, gamma=0.001;, score=0.986 total time=   0.2s\n",
      "[CV 5/5] END ..................C=1, gamma=0.001;, score=0.990 total time=   0.2s\n",
      "[CV 1/5] END .................C=1, gamma=0.0001;, score=0.976 total time=   0.2s\n",
      "[CV 2/5] END .................C=1, gamma=0.0001;, score=0.972 total time=   0.2s\n",
      "[CV 3/5] END .................C=1, gamma=0.0001;, score=0.976 total time=   0.2s\n",
      "[CV 4/5] END .................C=1, gamma=0.0001;, score=0.976 total time=   0.2s\n",
      "[CV 5/5] END .................C=1, gamma=0.0001;, score=0.962 total time=   0.2s\n",
      "[CV 1/5] END .....................C=10, gamma=1;, score=0.108 total time=   1.2s\n",
      "[CV 2/5] END .....................C=10, gamma=1;, score=0.104 total time=   1.2s\n",
      "[CV 3/5] END .....................C=10, gamma=1;, score=0.105 total time=   1.2s\n",
      "[CV 4/5] END .....................C=10, gamma=1;, score=0.105 total time=   1.7s\n",
      "[CV 5/5] END .....................C=10, gamma=1;, score=0.105 total time=   2.0s\n",
      "[CV 1/5] END ...................C=10, gamma=0.1;, score=0.115 total time=   1.9s\n",
      "[CV 2/5] END ...................C=10, gamma=0.1;, score=0.108 total time=   1.0s\n",
      "[CV 3/5] END ...................C=10, gamma=0.1;, score=0.105 total time=   1.2s\n",
      "[CV 4/5] END ...................C=10, gamma=0.1;, score=0.105 total time=   1.4s\n",
      "[CV 5/5] END ...................C=10, gamma=0.1;, score=0.108 total time=   1.2s\n",
      "[CV 1/5] END ..................C=10, gamma=0.01;, score=0.840 total time=   0.7s\n",
      "[CV 2/5] END ..................C=10, gamma=0.01;, score=0.795 total time=   0.7s\n",
      "[CV 3/5] END ..................C=10, gamma=0.01;, score=0.770 total time=   0.7s\n",
      "[CV 4/5] END ..................C=10, gamma=0.01;, score=0.819 total time=   0.7s\n",
      "[CV 5/5] END ..................C=10, gamma=0.01;, score=0.787 total time=   0.7s\n",
      "[CV 1/5] END .................C=10, gamma=0.001;, score=0.986 total time=   0.2s\n",
      "[CV 2/5] END .................C=10, gamma=0.001;, score=0.997 total time=   0.2s\n",
      "[CV 3/5] END .................C=10, gamma=0.001;, score=0.990 total time=   0.2s\n",
      "[CV 4/5] END .................C=10, gamma=0.001;, score=0.986 total time=   0.2s\n",
      "[CV 5/5] END .................C=10, gamma=0.001;, score=0.990 total time=   0.2s\n",
      "[CV 1/5] END ................C=10, gamma=0.0001;, score=0.983 total time=   0.1s\n",
      "[CV 2/5] END ................C=10, gamma=0.0001;, score=0.993 total time=   0.0s\n",
      "[CV 3/5] END ................C=10, gamma=0.0001;, score=0.976 total time=   0.0s\n",
      "[CV 4/5] END ................C=10, gamma=0.0001;, score=0.990 total time=   0.1s\n",
      "[CV 5/5] END ................C=10, gamma=0.0001;, score=0.986 total time=   0.0s\n",
      "[CV 1/5] END ....................C=100, gamma=1;, score=0.108 total time=   1.0s\n",
      "[CV 2/5] END ....................C=100, gamma=1;, score=0.104 total time=   1.0s\n",
      "[CV 3/5] END ....................C=100, gamma=1;, score=0.105 total time=   1.1s\n",
      "[CV 4/5] END ....................C=100, gamma=1;, score=0.105 total time=   1.1s\n",
      "[CV 5/5] END ....................C=100, gamma=1;, score=0.105 total time=   1.1s\n",
      "[CV 1/5] END ..................C=100, gamma=0.1;, score=0.115 total time=   0.9s\n",
      "[CV 2/5] END ..................C=100, gamma=0.1;, score=0.108 total time=   0.9s\n",
      "[CV 3/5] END ..................C=100, gamma=0.1;, score=0.105 total time=   0.9s\n",
      "[CV 4/5] END ..................C=100, gamma=0.1;, score=0.105 total time=   0.9s\n",
      "[CV 5/5] END ..................C=100, gamma=0.1;, score=0.108 total time=   0.9s\n",
      "[CV 1/5] END .................C=100, gamma=0.01;, score=0.840 total time=   0.6s\n",
      "[CV 2/5] END .................C=100, gamma=0.01;, score=0.795 total time=   0.7s\n",
      "[CV 3/5] END .................C=100, gamma=0.01;, score=0.770 total time=   0.6s\n",
      "[CV 4/5] END .................C=100, gamma=0.01;, score=0.819 total time=   0.6s\n",
      "[CV 5/5] END .................C=100, gamma=0.01;, score=0.787 total time=   0.6s\n",
      "[CV 1/5] END ................C=100, gamma=0.001;, score=0.986 total time=   0.2s\n",
      "[CV 2/5] END ................C=100, gamma=0.001;, score=0.997 total time=   0.2s\n",
      "[CV 3/5] END ................C=100, gamma=0.001;, score=0.990 total time=   0.2s\n",
      "[CV 4/5] END ................C=100, gamma=0.001;, score=0.986 total time=   0.2s\n",
      "[CV 5/5] END ................C=100, gamma=0.001;, score=0.990 total time=   0.2s\n",
      "[CV 1/5] END ...............C=100, gamma=0.0001;, score=0.983 total time=   0.1s\n",
      "[CV 2/5] END ...............C=100, gamma=0.0001;, score=0.993 total time=   0.0s\n",
      "[CV 3/5] END ...............C=100, gamma=0.0001;, score=0.983 total time=   0.1s\n",
      "[CV 4/5] END ...............C=100, gamma=0.0001;, score=0.990 total time=   0.0s\n",
      "[CV 5/5] END ...............C=100, gamma=0.0001;, score=0.979 total time=   0.0s\n",
      "[CV 1/5] END ...................C=1000, gamma=1;, score=0.108 total time=   1.0s\n"
     ]
    },
    {
     "name": "stdout",
     "output_type": "stream",
     "text": [
      "[CV 2/5] END ...................C=1000, gamma=1;, score=0.104 total time=   1.0s\n",
      "[CV 3/5] END ...................C=1000, gamma=1;, score=0.105 total time=   1.1s\n",
      "[CV 4/5] END ...................C=1000, gamma=1;, score=0.105 total time=   1.0s\n",
      "[CV 5/5] END ...................C=1000, gamma=1;, score=0.105 total time=   1.0s\n",
      "[CV 1/5] END .................C=1000, gamma=0.1;, score=0.115 total time=   0.9s\n",
      "[CV 2/5] END .................C=1000, gamma=0.1;, score=0.108 total time=   0.9s\n",
      "[CV 3/5] END .................C=1000, gamma=0.1;, score=0.105 total time=   0.9s\n",
      "[CV 4/5] END .................C=1000, gamma=0.1;, score=0.105 total time=   0.9s\n",
      "[CV 5/5] END .................C=1000, gamma=0.1;, score=0.108 total time=   0.9s\n",
      "[CV 1/5] END ................C=1000, gamma=0.01;, score=0.840 total time=   0.6s\n",
      "[CV 2/5] END ................C=1000, gamma=0.01;, score=0.795 total time=   0.6s\n",
      "[CV 3/5] END ................C=1000, gamma=0.01;, score=0.770 total time=   0.6s\n",
      "[CV 4/5] END ................C=1000, gamma=0.01;, score=0.819 total time=   0.6s\n",
      "[CV 5/5] END ................C=1000, gamma=0.01;, score=0.787 total time=   0.6s\n",
      "[CV 1/5] END ...............C=1000, gamma=0.001;, score=0.986 total time=   0.2s\n",
      "[CV 2/5] END ...............C=1000, gamma=0.001;, score=0.997 total time=   0.2s\n",
      "[CV 3/5] END ...............C=1000, gamma=0.001;, score=0.990 total time=   0.2s\n",
      "[CV 4/5] END ...............C=1000, gamma=0.001;, score=0.986 total time=   0.2s\n",
      "[CV 5/5] END ...............C=1000, gamma=0.001;, score=0.990 total time=   0.2s\n",
      "[CV 1/5] END ..............C=1000, gamma=0.0001;, score=0.983 total time=   0.1s\n",
      "[CV 2/5] END ..............C=1000, gamma=0.0001;, score=0.993 total time=   0.1s\n",
      "[CV 3/5] END ..............C=1000, gamma=0.0001;, score=0.983 total time=   0.0s\n",
      "[CV 4/5] END ..............C=1000, gamma=0.0001;, score=0.990 total time=   0.0s\n",
      "[CV 5/5] END ..............C=1000, gamma=0.0001;, score=0.979 total time=   0.0s\n"
     ]
    },
    {
     "data": {
      "text/plain": [
       "GridSearchCV(estimator=SVC(),\n",
       "             param_grid={'C': [0.1, 1, 10, 100, 1000],\n",
       "                         'gamma': [1, 0.1, 0.01, 0.001, 0.0001]},\n",
       "             verbose=3)"
      ]
     },
     "execution_count": 5,
     "metadata": {},
     "output_type": "execute_result"
    }
   ],
   "source": [
    "from sklearn.model_selection import GridSearchCV \n",
    "from sklearn.svm import SVC\n",
    "\n",
    "grid=GridSearchCV(SVC(), param_grid, refit=True, verbose=3)\n",
    "grid.fit(X_train,y_train)"
   ]
  },
  {
   "cell_type": "code",
   "execution_count": 6,
   "id": "7f35d67c",
   "metadata": {},
   "outputs": [
    {
     "data": {
      "text/plain": [
       "{'C': 10, 'gamma': 0.001}"
      ]
     },
     "execution_count": 6,
     "metadata": {},
     "output_type": "execute_result"
    }
   ],
   "source": [
    "grid.best_params_"
   ]
  },
  {
   "cell_type": "code",
   "execution_count": 7,
   "id": "81749f5f",
   "metadata": {},
   "outputs": [
    {
     "data": {
      "text/plain": [
       "SVC(C=10, gamma=0.001)"
      ]
     },
     "execution_count": 7,
     "metadata": {},
     "output_type": "execute_result"
    }
   ],
   "source": [
    "grid.best_estimator_"
   ]
  },
  {
   "cell_type": "code",
   "execution_count": 8,
   "id": "fe5d28bb",
   "metadata": {},
   "outputs": [],
   "source": [
    "grid_predictions=grid.predict(X_test)"
   ]
  },
  {
   "cell_type": "code",
   "execution_count": 9,
   "id": "3e65d450",
   "metadata": {},
   "outputs": [
    {
     "name": "stdout",
     "output_type": "stream",
     "text": [
      "[[41  0  0  0  0  0  0  0  0  0]\n",
      " [ 0 33  0  0  0  0  0  0  0  0]\n",
      " [ 0  0 31  0  0  0  0  0  0  0]\n",
      " [ 0  0  0 35  0  0  0  0  0  1]\n",
      " [ 0  0  0  0 47  0  0  0  0  0]\n",
      " [ 0  0  0  0  0 33  0  0  0  1]\n",
      " [ 0  0  0  0  0  0 30  0  0  0]\n",
      " [ 0  0  0  0  0  0  0 31  0  0]\n",
      " [ 0  1  0  0  0  0  0  0 34  2]\n",
      " [ 0  0  0  0  0  1  0  0  0 39]]\n"
     ]
    }
   ],
   "source": [
    "from sklearn.metrics import classification_report,confusion_matrix\n",
    "\n",
    "print(confusion_matrix(y_test,grid_predictions))"
   ]
  },
  {
   "cell_type": "code",
   "execution_count": 10,
   "id": "245a75b2",
   "metadata": {},
   "outputs": [
    {
     "name": "stdout",
     "output_type": "stream",
     "text": [
      "              precision    recall  f1-score   support\n",
      "\n",
      "           0       1.00      1.00      1.00        41\n",
      "           1       0.97      1.00      0.99        33\n",
      "           2       1.00      1.00      1.00        31\n",
      "           3       1.00      0.97      0.99        36\n",
      "           4       1.00      1.00      1.00        47\n",
      "           5       0.97      0.97      0.97        34\n",
      "           6       1.00      1.00      1.00        30\n",
      "           7       1.00      1.00      1.00        31\n",
      "           8       1.00      0.92      0.96        37\n",
      "           9       0.91      0.97      0.94        40\n",
      "\n",
      "    accuracy                           0.98       360\n",
      "   macro avg       0.98      0.98      0.98       360\n",
      "weighted avg       0.98      0.98      0.98       360\n",
      "\n"
     ]
    }
   ],
   "source": [
    "print(classification_report(y_test,grid_predictions))"
   ]
  },
  {
   "cell_type": "markdown",
   "id": "0d9f2f70",
   "metadata": {},
   "source": [
    "2.\n",
    "a.A acurácia é de 98%, é dada pela divisão do número de acertos e o total de entradas.\n",
    "\n",
    "b.Sim, pois a porcentagem de precisão, recall e f1 ficaram próximas de 1.\n",
    "\n",
    "c.{'C': 10, 'gamma': 0.001}\n",
    "\n",
    "d.Banco de dados reais são suscetíveis a ruídos, ausência e inconsistência de dados devido ao seu tamanho, geralmente muito grande, e provavelmente, origem de múltiplas fontes heterogêneas.\n",
    "Deve-se sempre alinhar os times de ciência de dados e negócios para ter o entendimento de qual modelo é o mais adequado para o negócio em questão, qual das métricas será mais adequada para cada caso."
   ]
  },
  {
   "cell_type": "markdown",
   "id": "3e6d8b71",
   "metadata": {},
   "source": [
    "3.\n",
    "a.Um parâmetro de modelo é uma variável do modelo selecionado que pode ser estimada ajustando os dados fornecidos ao modelo. Um hiperparâmetro de modelo é o parâmetro cujo valor é definido antes de o modelo iniciar o treinamento. Eles não podem ser aprendidos ajustando o modelo aos dados.\n",
    "\n",
    "b. 1-Entender Quais Processos Precisam de Automação. Os processos mais fáceis de automatizar são aqueles que são realizados manualmente a cada dia sem resultado variável. Processos complicados requerem mais introspecção antes da automação. Enquanto o aprendizado de máquina pode definitivamente ajudar a automatizar alguns processos, nem todos os problemas de automação precisam de aprendizado de máquina. \n",
    "2-Começando Sem Bons Dados. O problema número 1 enfrentado durante a aprendizagem de máquina começa com a falta de bons dados. Embora o aprimoramento de algoritmos muitas vezes consome a maior parte do tempo em Inteligencia Artificial (AI), a qualidade dos dados é essencial para que os algoritmos funcionem conforme pretendido. Dados danificados, dados corrompidos e dados incompletos são os inimigos essenciais do aprendizado de máquina ideal.\n",
    "3-Infraestrutura Inadequada. O aprendizado de máquina requer grandes quantidades de recursos de manipulacao de dados. Sistemas herdados muitas vezes não podem lidar com a carga de trabalho e se dobram sob pressão. Você deve verificar se sua infraestrutura pode lidar com aprendizado de máquina. Se não puder, você deve procurar atualizar, concluir com aceleração de hardware e armazenamento flexível. \n",
    "4-Implementação. As organizações geralmente têm mecanismos de análise trabalhando com eles no momento em que optam por atualizar para o aprendizado de máquina. Integrar metodologias de aprendizado de máquina mais recentes em metodologias existentes é uma tarefa complicada.\n",
    "\n",
    "c.É provável que o modelo esteja sobrescrevendo os dados de treinamento (ou tivemos muita sorte com os dados de treinamento). As possíveis soluções para o overfitting é basicamente obter mais dados e simplificando o modelo. (selecionando um algoritmo mais simples, reduzindo o número de parâmetros ou recursos utilizados ou regularizando o modelo) ou reduzindo o ruído nos dados de treinamento.\n",
    "Soluções: \n",
    "treinar com mais dados-Se a máquina de aprendizagem usada é complexa, em termos da quantidade de parâmetros a ajustar, uma alternativa é adquirir mais dados com o intuito de equilibrar a quantidade de parâmetros versus a quantidade de instâncias de treinamento.\n",
    "validação cruzada- Uma das formas de realizar validação cruzada é usar o procedimento k-fold cross-validation. Nesse procedimento, o conjunto de dados é dividido em k partes, aproximadamente do mesmo tamanho, das quais, k-1 partes são usadas para treinar o modelo e a parte restante é usada para avaliar o modelo. Esse processo é repetido k vezes, de forma que cada parte será usada tanto para treinar como para avaliar o modelo. De maneira geral, a validação cruzada, por si só, não evita overfitting, mas segue uma boa prática ao separar o conjunto de teste e ao realizar um revezamento dos dados para uma melhor avaliação, no que tange a generalização do modelo em instâncias não vistas. Uma observação: o k-fold cross-validation não é uma boa opção quando o conjunto possui poucos dados.\n",
    "parar o treinamento mais cedo (early stopping)- Máquinas de aprendizagem, tais como redes neurais artificiais, árvores de decisão, deep learning, entre outras, aprendem iterativamente. A cada passo, a máquina ajusta seus parâmetros aos dados e isso pode ser monitorado. Pode-se usar esse monitoramento para decidir qual é o melhor momento de interromper o treinamento da máquina. Espera-se que a precisão no conjunto de treinamento aumente com o tempo, mas, em relação ao conjunto de validação, a acurácia deve atingir um pico e depois cair. Esse pode ser um bom momento para frear o treinamento, antes que a máquina se sobreajuste aos dados.\n",
    "\n",
    "d.Um conjunto de teste é usado para estimar o erro de generalização que um modelo fará em novas instâncias, antes que o modelo seja lançado na produção.\n",
    "\n",
    "e.Um conjunto de validação é usado para comparar modelos. Permite selecionar o melhor modelo e ajustar os hiperparâmetros.\n",
    "\n",
    "f.Se você ajustar os hiperparâmetros usando o conjunto de testes, corre o risco de superajustá-lo, e o erro de generalização que você medir será otimista(você pode iniciar um modelo com desempenho pior do que o esperado)"
   ]
  }
 ],
 "metadata": {
  "kernelspec": {
   "display_name": "Python 3 (ipykernel)",
   "language": "python",
   "name": "python3"
  },
  "language_info": {
   "codemirror_mode": {
    "name": "ipython",
    "version": 3
   },
   "file_extension": ".py",
   "mimetype": "text/x-python",
   "name": "python",
   "nbconvert_exporter": "python",
   "pygments_lexer": "ipython3",
   "version": "3.9.12"
  }
 },
 "nbformat": 4,
 "nbformat_minor": 5
}
