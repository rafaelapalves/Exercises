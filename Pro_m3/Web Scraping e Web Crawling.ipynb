{
 "cells": [
  {
   "cell_type": "markdown",
   "id": "b3ed22a5",
   "metadata": {},
   "source": [
    "FAZER A RASPAGEM DO CÓDIGO DE UM SITE PARA TERMOS UM CONTEÚDO PARA TRABALHAR"
   ]
  },
  {
   "cell_type": "code",
   "execution_count": 1,
   "id": "ecb9c3d2",
   "metadata": {},
   "outputs": [],
   "source": [
    "from requests import get\n",
    "resposta = get(\"https://www.python.org/jobs/\")"
   ]
  },
  {
   "cell_type": "markdown",
   "id": "b7f4b6b1",
   "metadata": {},
   "source": [
    "PARA CONSEGUIR \"NAVEGAR\" PELO CÓDIGO HTML UTILIZAREMOS A BIBLIOTECA BEAUTIFULSOUP"
   ]
  },
  {
   "cell_type": "code",
   "execution_count": 2,
   "id": "fd5c8a67",
   "metadata": {},
   "outputs": [
    {
     "name": "stdout",
     "output_type": "stream",
     "text": [
      "Collecting bs4\n",
      "  Downloading bs4-0.0.1.tar.gz (1.1 kB)\n",
      "Requirement already satisfied: beautifulsoup4 in c:\\users\\user\\anaconda3\\lib\\site-packages (from bs4) (4.11.1)\n",
      "Requirement already satisfied: soupsieve>1.2 in c:\\users\\user\\anaconda3\\lib\\site-packages (from beautifulsoup4->bs4) (2.3.1)\n",
      "Building wheels for collected packages: bs4\n",
      "  Building wheel for bs4 (setup.py): started\n",
      "  Building wheel for bs4 (setup.py): finished with status 'done'\n",
      "  Created wheel for bs4: filename=bs4-0.0.1-py3-none-any.whl size=1272 sha256=332aadb8f7654fdff42236e5643bd3fb866f6b46437295b6a5847e9c7873cb86\n",
      "  Stored in directory: c:\\users\\user\\appdata\\local\\pip\\cache\\wheels\\73\\2b\\cb\\099980278a0c9a3e57ff1a89875ec07bfa0b6fcbebb9a8cad3\n",
      "Successfully built bs4\n",
      "Installing collected packages: bs4\n",
      "Successfully installed bs4-0.0.1\n"
     ]
    }
   ],
   "source": [
    "!pip install bs4"
   ]
  },
  {
   "cell_type": "markdown",
   "id": "55d91efa",
   "metadata": {},
   "source": [
    "Vamos utilizar também o parser HTML5LIB"
   ]
  },
  {
   "cell_type": "code",
   "execution_count": 3,
   "id": "1ef2f9d6",
   "metadata": {},
   "outputs": [
    {
     "name": "stdout",
     "output_type": "stream",
     "text": [
      "Collecting html5lib\n",
      "  Downloading html5lib-1.1-py2.py3-none-any.whl (112 kB)\n",
      "Requirement already satisfied: webencodings in c:\\users\\user\\anaconda3\\lib\\site-packages (from html5lib) (0.5.1)\n",
      "Requirement already satisfied: six>=1.9 in c:\\users\\user\\anaconda3\\lib\\site-packages (from html5lib) (1.16.0)\n",
      "Installing collected packages: html5lib\n",
      "Successfully installed html5lib-1.1\n"
     ]
    }
   ],
   "source": [
    "!pip install html5lib"
   ]
  },
  {
   "cell_type": "markdown",
   "id": "f6b20933",
   "metadata": {},
   "source": [
    "Vamos utilizar o BeautifulSoup para mapear o conteúdo do código HTML"
   ]
  },
  {
   "cell_type": "code",
   "execution_count": 4,
   "id": "5faa9138",
   "metadata": {},
   "outputs": [],
   "source": [
    "from bs4 import BeautifulSoup"
   ]
  },
  {
   "cell_type": "code",
   "execution_count": 5,
   "id": "6c181ff3",
   "metadata": {},
   "outputs": [],
   "source": [
    "tags = BeautifulSoup(resposta.text, \"html5lib\")"
   ]
  },
  {
   "cell_type": "markdown",
   "id": "78d417fa",
   "metadata": {},
   "source": [
    "Para começar, vamos localizar a tag Title"
   ]
  },
  {
   "cell_type": "code",
   "execution_count": 6,
   "id": "367a3b66",
   "metadata": {},
   "outputs": [
    {
     "data": {
      "text/plain": [
       "<title>Python Job Board | Python.org</title>"
      ]
     },
     "execution_count": 6,
     "metadata": {},
     "output_type": "execute_result"
    }
   ],
   "source": [
    "title = tags.find(\"title\")\n",
    "title"
   ]
  },
  {
   "cell_type": "code",
   "execution_count": 7,
   "id": "78f07f0c",
   "metadata": {},
   "outputs": [
    {
     "data": {
      "text/plain": [
       "'Python Job Board | Python.org'"
      ]
     },
     "execution_count": 7,
     "metadata": {},
     "output_type": "execute_result"
    }
   ],
   "source": [
    "title.text"
   ]
  },
  {
   "cell_type": "markdown",
   "id": "6a106cee",
   "metadata": {},
   "source": [
    "Agora vamos tentar extrair os titulos de cada vaga"
   ]
  },
  {
   "cell_type": "code",
   "execution_count": 8,
   "id": "8834461d",
   "metadata": {},
   "outputs": [
    {
     "data": {
      "text/plain": [
       "['Get exploring!',\n",
       " '\\n                \\n                    New\\n                    \\n                    Software Developer (f/m/d)\\n\\t\\t    1&1 Mail & Media Applications SE\\n                \\n                Karlsruhe, Germany\\n            ',\n",
       " \"\\n                \\n                    New\\n                    \\n                    Python  Developer\\n\\t\\t    It's  a technology and consulting company\\n                \\n                Pune (Work from Home), Maharashtra, India\\n            \",\n",
       " '\\n                \\n                    New\\n                    \\n                    Senior Software Engineer, Python\\n\\t\\t    AssemblyAI\\n                \\n                Remote, Worldwide\\n            ',\n",
       " '\\n                \\n                    New\\n                    \\n                    Staff Software Engineer, Python\\n\\t\\t    AssemblyAI\\n                \\n                Remote, Worldwide\\n            ',\n",
       " '\\n                \\n                    New\\n                    \\n                    Chief Technology Officer (M/F/D), Creative and Growing Startup Environment\\n\\t\\t    Perigee\\n                \\n                Vienna, Austria\\n            ',\n",
       " '\\n                \\n                    New\\n                    \\n                    Python Back End Engineer\\n\\t\\t    RapidAPI\\n                \\n                Berlin, Germany\\n            ',\n",
       " '\\n                \\n                    New\\n                    \\n                    Senior Python Backend Engineer\\n\\t\\t    Reef Technologies\\n                \\n                Warsaw (fully remote), Poland\\n            ',\n",
       " '\\n                \\n                    New\\n                    \\n                    Backend Developer\\n\\t\\t    Ascendeum Pvt ltd\\n                \\n                Remote, Remote, India\\n            ',\n",
       " '\\n                \\n                    New\\n                    \\n                    Engineering Lead - Backend Python\\n\\t\\t    Global Talents Hub\\n                \\n                Barcelona, Catalonia, Spain\\n            ',\n",
       " '\\n                \\n                    New\\n                    \\n                    AI Developer (Python)\\n\\t\\t    ISB Vietnam\\n                \\n                Vietnam, Vietnam, Vietnam\\n            ',\n",
       " '\\n                \\n                    New\\n                    \\n                    Remote Senior Web Engineer\\n\\t\\t    Scopic\\n                \\n                Ant city, Worldwide\\n            ',\n",
       " '\\n                \\n                    New\\n                    \\n                    System Engineer I (Python), AWS Managed Services (AMS)\\n\\t\\t    Amazon Web Services Australia\\n                \\n                Bengaluru, Karnataka, India\\n            ',\n",
       " '\\n                \\n                    New\\n                    \\n                    System Engineer (Python), AWS Managed Services (AMS)\\n\\t\\t    Amazon Web Services Australia\\n                \\n                Bengaluru, Karnataka, India\\n            ',\n",
       " '\\n                \\n                    New\\n                    \\n                    System Engineer (Python) - Amazon Web Services\\n\\t\\t    Amazon Web Services Australia\\n                \\n                Sydney, Melbourne, Australia, Australia\\n            ',\n",
       " '\\n                \\n                    New\\n                    \\n                    Software Dev Engineer II\\n\\t\\t    Amazon Web Services Australia\\n                \\n                Sydney, Melbourne, Australia, Australia\\n            ',\n",
       " '\\n                \\n                    New\\n                    \\n                    Software Dev Engineer I\\n\\t\\t    Amazon Web Services Australia\\n                \\n                Sydney, Melbourne, Australia, Australia\\n            ',\n",
       " '\\n                \\n                    New\\n                    \\n                    Software Engineer - Open Source C++ & PyTorch\\n\\t\\t    Quansight\\n                \\n                Austin, United States\\n            ',\n",
       " '\\n                \\n                    New\\n                    \\n                    Data Acquisition Engineer / Developer\\n\\t\\t    TXODDS\\n                \\n                London/Europe, England\\n            ',\n",
       " '\\n                \\n                    New\\n                    \\n                    Backend Engineer\\n\\t\\t    Figure 1\\n                \\n                Remote, Ontario, Canada\\n            ',\n",
       " '\\n                \\n                    New\\n                    \\n                    Senior Backend Python AWS Developer-Lambda\\n\\t\\t    NOMAD\\n                \\n                Newport Beach, CA, United States\\n            ',\n",
       " '\\n                \\n                    New\\n                    \\n                    Senior Software Engineer\\n\\t\\t    Kintsugi\\n                \\n                Remote, USA\\n            ',\n",
       " '\\n                \\n                    New\\n                    \\n                    Python and backend developer - fulltime - remote in pacfic timezone or near\\n\\t\\t    cast.app\\n                \\n                San Francisco (remote), California, US\\n            ',\n",
       " '\\n                \\n                    New\\n                    \\n                    Sr. Software Developer\\n\\t\\t    FTSi.Tech\\n                \\n                Columbia, Maryland, United States\\n            ',\n",
       " '\\n                \\n                    New\\n                    \\n                    UC Davis CPE Python Programming Instructor Position\\n\\t\\t    UC Davis Continuing and Professional Education\\n                \\n                Davis/Sacramento (remote instruction), California, USA\\n            ',\n",
       " '\\n                \\n                    New\\n                    \\n                    Senior Python Developer\\n\\t\\t    YouGov\\n                \\n                Sao Paulo, Brazil\\n            ']"
      ]
     },
     "execution_count": 8,
     "metadata": {},
     "output_type": "execute_result"
    }
   ],
   "source": [
    "subtitles = tags.find_all(\"h2\")\n",
    "[h2.text for h2 in subtitles]"
   ]
  },
  {
   "cell_type": "markdown",
   "id": "cc25075b",
   "metadata": {},
   "source": [
    "Podemos fazer ficar mais claro se selecionarmos pela classe correta e navegarmos pelas tags"
   ]
  },
  {
   "cell_type": "code",
   "execution_count": 12,
   "id": "884cf79a",
   "metadata": {},
   "outputs": [
    {
     "data": {
      "text/plain": [
       "['Software Developer (f/m/d)',\n",
       " 'Python  Developer',\n",
       " 'Senior Software Engineer, Python',\n",
       " 'Staff Software Engineer, Python',\n",
       " 'Chief Technology Officer (M/F/D), Creative and Growing Startup Environment',\n",
       " 'Python Back End Engineer',\n",
       " 'Senior Python Backend Engineer',\n",
       " 'Backend Developer',\n",
       " 'Engineering Lead - Backend Python',\n",
       " 'AI Developer (Python)',\n",
       " 'Remote Senior Web Engineer',\n",
       " 'System Engineer I (Python), AWS Managed Services (AMS)',\n",
       " 'System Engineer (Python), AWS Managed Services (AMS)',\n",
       " 'System Engineer (Python) - Amazon Web Services',\n",
       " 'Software Dev Engineer II',\n",
       " 'Software Dev Engineer I',\n",
       " 'Software Engineer - Open Source C++ & PyTorch',\n",
       " 'Data Acquisition Engineer / Developer',\n",
       " 'Backend Engineer',\n",
       " 'Senior Backend Python AWS Developer-Lambda',\n",
       " 'Senior Software Engineer',\n",
       " 'Python and backend developer - fulltime - remote in pacfic timezone or near',\n",
       " 'Sr. Software Developer',\n",
       " 'UC Davis CPE Python Programming Instructor Position',\n",
       " 'Senior Python Developer']"
      ]
     },
     "execution_count": 12,
     "metadata": {},
     "output_type": "execute_result"
    }
   ],
   "source": [
    "subtitles = tags.find_all(\"h2\", attrs = {\"class\" : \"listing-company\"})\n",
    "[h2.a.text for h2 in subtitles]"
   ]
  },
  {
   "cell_type": "markdown",
   "id": "e0b9310a",
   "metadata": {},
   "source": [
    "Podemos construir um Web Crawler extraindo os links de cada vaga"
   ]
  },
  {
   "cell_type": "code",
   "execution_count": 10,
   "id": "82f6365a",
   "metadata": {},
   "outputs": [],
   "source": [
    "para_visitar = [\"https://www.python.org\" + h2.a[\"href\"] for h2 in subtitles]"
   ]
  },
  {
   "cell_type": "code",
   "execution_count": 13,
   "id": "21a6bab9",
   "metadata": {},
   "outputs": [
    {
     "data": {
      "text/plain": [
       "['https://www.python.org/jobs/6777/',\n",
       " 'https://www.python.org/jobs/6775/',\n",
       " 'https://www.python.org/jobs/6774/',\n",
       " 'https://www.python.org/jobs/6773/',\n",
       " 'https://www.python.org/jobs/6771/',\n",
       " 'https://www.python.org/jobs/6770/',\n",
       " 'https://www.python.org/jobs/6769/',\n",
       " 'https://www.python.org/jobs/6767/',\n",
       " 'https://www.python.org/jobs/6766/',\n",
       " 'https://www.python.org/jobs/6765/',\n",
       " 'https://www.python.org/jobs/6764/',\n",
       " 'https://www.python.org/jobs/6763/',\n",
       " 'https://www.python.org/jobs/6762/',\n",
       " 'https://www.python.org/jobs/6761/',\n",
       " 'https://www.python.org/jobs/6760/',\n",
       " 'https://www.python.org/jobs/6759/',\n",
       " 'https://www.python.org/jobs/6758/',\n",
       " 'https://www.python.org/jobs/6757/',\n",
       " 'https://www.python.org/jobs/6756/',\n",
       " 'https://www.python.org/jobs/6755/',\n",
       " 'https://www.python.org/jobs/6754/',\n",
       " 'https://www.python.org/jobs/6752/',\n",
       " 'https://www.python.org/jobs/6751/',\n",
       " 'https://www.python.org/jobs/6750/',\n",
       " 'https://www.python.org/jobs/6749/']"
      ]
     },
     "execution_count": 13,
     "metadata": {},
     "output_type": "execute_result"
    }
   ],
   "source": [
    "para_visitar"
   ]
  },
  {
   "cell_type": "code",
   "execution_count": 15,
   "id": "dda8980c",
   "metadata": {},
   "outputs": [],
   "source": [
    "sites = []\n",
    "for pv in para_visitar:\n",
    "    acesso = get(pv)\n",
    "    sites.append(acesso)"
   ]
  },
  {
   "cell_type": "markdown",
   "id": "b49ebe8e",
   "metadata": {},
   "source": [
    "Uma dica importante é que a separação por classes e a padronização do HTML depende dos desenvolvedores do site. Então, pode ser que em alguns sites seja dificil navegar, pois não foram seguidas as boas práticas de desenvolvimento."
   ]
  },
  {
   "cell_type": "code",
   "execution_count": 16,
   "id": "b411dc69",
   "metadata": {},
   "outputs": [
    {
     "data": {
      "text/plain": [
       "[<Response [200]>,\n",
       " <Response [200]>,\n",
       " <Response [200]>,\n",
       " <Response [200]>,\n",
       " <Response [200]>,\n",
       " <Response [200]>,\n",
       " <Response [200]>,\n",
       " <Response [200]>,\n",
       " <Response [200]>,\n",
       " <Response [200]>,\n",
       " <Response [200]>,\n",
       " <Response [200]>,\n",
       " <Response [200]>,\n",
       " <Response [200]>,\n",
       " <Response [200]>,\n",
       " <Response [200]>,\n",
       " <Response [200]>,\n",
       " <Response [200]>,\n",
       " <Response [200]>,\n",
       " <Response [200]>,\n",
       " <Response [200]>,\n",
       " <Response [200]>,\n",
       " <Response [200]>,\n",
       " <Response [200]>,\n",
       " <Response [200]>]"
      ]
     },
     "execution_count": 16,
     "metadata": {},
     "output_type": "execute_result"
    }
   ],
   "source": [
    "sites"
   ]
  },
  {
   "cell_type": "code",
   "execution_count": null,
   "id": "e416a4c3",
   "metadata": {},
   "outputs": [],
   "source": []
  }
 ],
 "metadata": {
  "kernelspec": {
   "display_name": "Python 3 (ipykernel)",
   "language": "python",
   "name": "python3"
  },
  "language_info": {
   "codemirror_mode": {
    "name": "ipython",
    "version": 3
   },
   "file_extension": ".py",
   "mimetype": "text/x-python",
   "name": "python",
   "nbconvert_exporter": "python",
   "pygments_lexer": "ipython3",
   "version": "3.9.12"
  }
 },
 "nbformat": 4,
 "nbformat_minor": 5
}
