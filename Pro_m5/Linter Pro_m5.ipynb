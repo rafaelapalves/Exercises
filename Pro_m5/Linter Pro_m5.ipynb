{
 "cells": [
  {
   "cell_type": "code",
   "execution_count": 17,
   "id": "d20b7f88",
   "metadata": {},
   "outputs": [
    {
     "name": "stdout",
     "output_type": "stream",
     "text": [
      "************* Module modulo1\n",
      "modulo1.py:11:4: R0201: Method could be a function (no-self-use)\n",
      "modulo1.py:6:0: R0903: Too few public methods (1/2) (too-few-public-methods)\n",
      "\n",
      "--------------------------------------------------------------------\n",
      "\n",
      "Your code has been rated at 8.00/10 (previous run: -3.00/10, +11.00)\n",
      "\n",
      "\n",
      "\n"
     ]
    }
   ],
   "source": [
    "!python -m pylint modulo1.py"
   ]
  },
  {
   "cell_type": "code",
   "execution_count": 19,
   "id": "2e52e0e6",
   "metadata": {},
   "outputs": [
    {
     "name": "stdout",
     "output_type": "stream",
     "text": [
      "modulo1.py:6:1: E302 expected 2 blank lines, found 1\n"
     ]
    }
   ],
   "source": [
    "!python -m pycodestyle modulo1.py"
   ]
  },
  {
   "cell_type": "code",
   "execution_count": 21,
   "id": "a5acdf65",
   "metadata": {},
   "outputs": [
    {
     "name": "stdout",
     "output_type": "stream",
     "text": [
      "************* Module mult\n",
      "mult.py:2:0: C0116: Missing function or method docstring (missing-function-docstring)\n",
      "\n",
      "------------------------------------------------------------------\n",
      "\n",
      "Your code has been rated at 9.00/10 (previous run: 7.00/10, +2.00)\n",
      "\n",
      "\n",
      "\n"
     ]
    }
   ],
   "source": [
    "!python -m pylint mult.py"
   ]
  },
  {
   "cell_type": "code",
   "execution_count": 24,
   "id": "125878e3",
   "metadata": {},
   "outputs": [],
   "source": [
    "!python -m pycodestyle mult.py"
   ]
  },
  {
   "cell_type": "code",
   "execution_count": null,
   "id": "17db90c7",
   "metadata": {},
   "outputs": [],
   "source": []
  }
 ],
 "metadata": {
  "kernelspec": {
   "display_name": "Python 3 (ipykernel)",
   "language": "python",
   "name": "python3"
  },
  "language_info": {
   "codemirror_mode": {
    "name": "ipython",
    "version": 3
   },
   "file_extension": ".py",
   "mimetype": "text/x-python",
   "name": "python",
   "nbconvert_exporter": "python",
   "pygments_lexer": "ipython3",
   "version": "3.9.12"
  }
 },
 "nbformat": 4,
 "nbformat_minor": 5
}
