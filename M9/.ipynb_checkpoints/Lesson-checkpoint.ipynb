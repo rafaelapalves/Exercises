{
 "cells": [
  {
   "cell_type": "code",
   "execution_count": 238,
   "id": "b29bf860",
   "metadata": {},
   "outputs": [
    {
     "data": {
      "text/plain": [
       "<bound method NDFrame.head of                                                   Gestor   Canal de Origem  \\\n",
       "0                      Secretaria Nacional do Consumidor  Não identificado   \n",
       "1      Instituto Estadual de Proteção e Defesa do Con...  Não identificado   \n",
       "2                      Secretaria Nacional do Consumidor  Não identificado   \n",
       "3      Instituto de Promoção e Defesa do Cidadão e Co...  Não identificado   \n",
       "4      Secretaria de Desenvolvimento Social e Direito...  Não identificado   \n",
       "...                                                  ...               ...   \n",
       "43982         Instituto de Defesa do Consumidor - Procon    Plataforma Web   \n",
       "43983        Fundação de Proteção e Defesa do Consumidor    Plataforma Web   \n",
       "43984        Fundação de Proteção e Defesa do Consumidor    Plataforma Web   \n",
       "43985  Departamento de Proteção e Defesa do Consumido...    Plataforma Web   \n",
       "43986        Fundação de Proteção e Defesa do Consumidor    Plataforma Web   \n",
       "\n",
       "      Região  UF                 Cidade Sexo        Faixa Etária  \\\n",
       "0         SE  RJ               Itaboraí    M  entre 31 a 40 anos   \n",
       "1         SE  ES                  Serra    F  entre 31 a 40 anos   \n",
       "2         SE  RJ          Volta Redonda    M  entre 31 a 40 anos   \n",
       "3         NE  MA               São Luís    F  entre 31 a 40 anos   \n",
       "4         NE  PE                 Recife    M  entre 21 a 30 anos   \n",
       "...      ...  ..                    ...  ...                 ...   \n",
       "43982     CO  DF               Brasília    M  entre 31 a 40 anos   \n",
       "43983     SE  SP  São Bernardo do Campo    M  entre 31 a 40 anos   \n",
       "43984     SE  SP              São Paulo    M  entre 31 a 40 anos   \n",
       "43985     S   RS         Dona Francisca    M     mais de 70 anos   \n",
       "43986     SE  SP                 Santos    F  entre 31 a 40 anos   \n",
       "\n",
       "       Ano Abertura  Mês Abertura Data Abertura  ...   Como Comprou Contratou  \\\n",
       "0              2014             6    27/06/2014  ...  Não comprei / contratei   \n",
       "1              2014             6    11/06/2014  ...                 Internet   \n",
       "2              2014             6    27/06/2014  ...                 Internet   \n",
       "3              2014             5    29/05/2014  ...  Não comprei / contratei   \n",
       "4              2014             6    30/06/2014  ...                 Internet   \n",
       "...             ...           ...           ...  ...                      ...   \n",
       "43982          2014            12    01/12/2014  ...                 Internet   \n",
       "43983          2014            11    30/11/2014  ...                 Internet   \n",
       "43984          2014            12    26/12/2014  ...                 Internet   \n",
       "43985          2014            12    09/12/2014  ...              Loja física   \n",
       "43986          2014            12    02/12/2014  ...                 Telefone   \n",
       "\n",
       "      Procurou Empresa Respondida                 Situação  \\\n",
       "0                    S          S  Finalizada não avaliada   \n",
       "1                    S          S      Finalizada avaliada   \n",
       "2                    S          S      Finalizada avaliada   \n",
       "3                    S          S      Finalizada avaliada   \n",
       "4                    S          S  Finalizada não avaliada   \n",
       "...                ...        ...                      ...   \n",
       "43982                S          S  Finalizada não avaliada   \n",
       "43983                S          S      Finalizada avaliada   \n",
       "43984                S          S      Finalizada avaliada   \n",
       "43985                S          S  Finalizada não avaliada   \n",
       "43986                N          S      Finalizada avaliada   \n",
       "\n",
       "      Avaliação Reclamação Nota do Consumidor Análise da Recusa  \\\n",
       "0             Não Avaliada                NaN               NaN   \n",
       "1            Não Resolvida                1.0               NaN   \n",
       "2                Resolvida                5.0               NaN   \n",
       "3                Resolvida                5.0               NaN   \n",
       "4             Não Avaliada                NaN               NaN   \n",
       "...                    ...                ...               ...   \n",
       "43982         Não Avaliada                NaN               NaN   \n",
       "43983        Não Resolvida                1.0               NaN   \n",
       "43984        Não Resolvida                1.0               NaN   \n",
       "43985         Não Avaliada                NaN               NaN   \n",
       "43986            Resolvida                3.0               NaN   \n",
       "\n",
       "      Edição de Conteúdo Interação do Gestor Total  \n",
       "0                      N                   N     1  \n",
       "1                      N                   N     1  \n",
       "2                      N                   N     1  \n",
       "3                      N                   N     1  \n",
       "4                      N                   N     1  \n",
       "...                  ...                 ...   ...  \n",
       "43982                  N                   N     1  \n",
       "43983                  N                   N     1  \n",
       "43984                  N                   N     1  \n",
       "43985                  N                   N     1  \n",
       "43986                  N                   N     1  \n",
       "\n",
       "[43987 rows x 38 columns]>"
      ]
     },
     "execution_count": 238,
     "metadata": {},
     "output_type": "execute_result"
    }
   ],
   "source": [
    "import pandas as pd\n",
    "\n",
    "df = pd.read_csv(\"dadosgovbr---2014.csv\",sep = ';', encoding=\"latin-1\")\n",
    "\n",
    "df.head"
   ]
  },
  {
   "cell_type": "code",
   "execution_count": 239,
   "id": "06d5b702",
   "metadata": {},
   "outputs": [
    {
     "data": {
      "text/plain": [
       "Gestor                    43987\n",
       "Canal de Origem           43987\n",
       "Região                    43987\n",
       "UF                        43987\n",
       "Cidade                    43987\n",
       "Sexo                      43987\n",
       "Faixa Etária              43987\n",
       "Ano Abertura              43987\n",
       "Mês Abertura              43987\n",
       "Data Abertura             43987\n",
       "Hora Abertura             43987\n",
       "Data Resposta             41961\n",
       "Hora Resposta             41961\n",
       "Data Análise               1953\n",
       "Hora Análise               1953\n",
       "Data Recusa                2066\n",
       "Hora Recusa                2066\n",
       "Data Finalização          43987\n",
       "Hora Finalização          43987\n",
       "Prazo Resposta            43987\n",
       "Prazo Analise Gestor       1953\n",
       "Tempo Resposta            41961\n",
       "Nome Fantasia             43987\n",
       "Segmento de Mercado       43987\n",
       "Área                      43987\n",
       "Assunto                   43987\n",
       "Grupo Problema            43987\n",
       "Problema                  43987\n",
       "Como Comprou Contratou    43987\n",
       "Procurou Empresa          43987\n",
       "Respondida                43987\n",
       "Situação                  43987\n",
       "Avaliação Reclamação      42153\n",
       "Nota do Consumidor        28627\n",
       "Análise da Recusa          2046\n",
       "Edição de Conteúdo        43987\n",
       "Interação do Gestor       43987\n",
       "Total                     43987\n",
       "dtype: int64"
      ]
     },
     "execution_count": 239,
     "metadata": {},
     "output_type": "execute_result"
    }
   ],
   "source": [
    "df.count()"
   ]
  },
  {
   "cell_type": "code",
   "execution_count": 240,
   "id": "4523e507",
   "metadata": {},
   "outputs": [
    {
     "data": {
      "text/plain": [
       "1    43987\n",
       "Name: Total, dtype: int64"
      ]
     },
     "execution_count": 240,
     "metadata": {},
     "output_type": "execute_result"
    }
   ],
   "source": [
    "#A\n",
    "df.Total.value_counts()"
   ]
  },
  {
   "cell_type": "code",
   "execution_count": 241,
   "id": "3abcf564",
   "metadata": {},
   "outputs": [
    {
     "data": {
      "text/plain": [
       "6.667572269488335"
      ]
     },
     "execution_count": 241,
     "metadata": {},
     "output_type": "execute_result"
    }
   ],
   "source": [
    "#B\n",
    "df['Tempo Resposta'].mean()"
   ]
  },
  {
   "cell_type": "code",
   "execution_count": 242,
   "id": "1c6fc82a",
   "metadata": {},
   "outputs": [
    {
     "data": {
      "text/plain": [
       "13.0"
      ]
     },
     "execution_count": 242,
     "metadata": {},
     "output_type": "execute_result"
    }
   ],
   "source": [
    "df['Tempo Resposta'].max()"
   ]
  },
  {
   "cell_type": "code",
   "execution_count": 243,
   "id": "e2a24911",
   "metadata": {},
   "outputs": [
    {
     "data": {
      "text/plain": [
       "0.0"
      ]
     },
     "execution_count": 243,
     "metadata": {},
     "output_type": "execute_result"
    }
   ],
   "source": [
    "df['Tempo Resposta'].min()"
   ]
  },
  {
   "cell_type": "code",
   "execution_count": 244,
   "id": "8abdc0b3",
   "metadata": {},
   "outputs": [
    {
     "data": {
      "text/plain": [
       "3.007021343486918"
      ]
     },
     "execution_count": 244,
     "metadata": {},
     "output_type": "execute_result"
    }
   ],
   "source": [
    "#C\n",
    "df['Nota do Consumidor'].mean()"
   ]
  },
  {
   "cell_type": "code",
   "execution_count": 245,
   "id": "de4346b6",
   "metadata": {},
   "outputs": [
    {
     "data": {
      "text/plain": [
       "5.0"
      ]
     },
     "execution_count": 245,
     "metadata": {},
     "output_type": "execute_result"
    }
   ],
   "source": [
    "df['Nota do Consumidor'].max()"
   ]
  },
  {
   "cell_type": "code",
   "execution_count": 246,
   "id": "6fd85774",
   "metadata": {},
   "outputs": [
    {
     "data": {
      "text/plain": [
       "1.0"
      ]
     },
     "execution_count": 246,
     "metadata": {},
     "output_type": "execute_result"
    }
   ],
   "source": [
    "df['Nota do Consumidor'].min()"
   ]
  },
  {
   "cell_type": "code",
   "execution_count": 247,
   "id": "f2df9c4b",
   "metadata": {},
   "outputs": [
    {
     "data": {
      "text/plain": [
       "-0.18715017983593057"
      ]
     },
     "execution_count": 247,
     "metadata": {},
     "output_type": "execute_result"
    }
   ],
   "source": [
    "#D\n",
    "df['Nota do Consumidor'].corr(df['Tempo Resposta'])"
   ]
  },
  {
   "cell_type": "code",
   "execution_count": 248,
   "id": "72be9648",
   "metadata": {},
   "outputs": [
    {
     "data": {
      "text/plain": [
       "M    27895\n",
       "F    16092\n",
       "Name: Sexo, dtype: int64"
      ]
     },
     "execution_count": 248,
     "metadata": {},
     "output_type": "execute_result"
    }
   ],
   "source": [
    "#E\n",
    "df.Sexo.value_counts()"
   ]
  },
  {
   "cell_type": "code",
   "execution_count": 249,
   "id": "c2be13cd",
   "metadata": {},
   "outputs": [
    {
     "data": {
      "text/plain": [
       "SP    11882\n",
       "PR     6140\n",
       "RJ     4907\n",
       "MG     4186\n",
       "BA     2443\n",
       "RS     1941\n",
       "DF     1805\n",
       "PE     1626\n",
       "SC     1458\n",
       "MA     1082\n",
       "ES     1081\n",
       "CE     1068\n",
       "MT     1012\n",
       "GO      886\n",
       "MS      531\n",
       "AC      449\n",
       "PB      343\n",
       "AM      291\n",
       "PA      211\n",
       "RN      160\n",
       "RO      119\n",
       "AL      104\n",
       "SE       97\n",
       "PI       77\n",
       "TO       46\n",
       "RR       24\n",
       "AP       18\n",
       "Name: UF, dtype: int64"
      ]
     },
     "execution_count": 249,
     "metadata": {},
     "output_type": "execute_result"
    }
   ],
   "source": [
    "#F\n",
    "df.UF.value_counts()"
   ]
  },
  {
   "cell_type": "code",
   "execution_count": 250,
   "id": "d51a1121",
   "metadata": {},
   "outputs": [
    {
     "name": "stdout",
     "output_type": "stream",
     "text": [
      "4.605906290494919 %\n"
     ]
    }
   ],
   "source": [
    "#G\n",
    "total=df.Respondida.value_counts()\n",
    "N=total['N']\n",
    "T=total['S']+total['N']\n",
    "nao_respondida=(100*N)/T\n",
    "print(nao_respondida,\"%\")"
   ]
  },
  {
   "cell_type": "code",
   "execution_count": 251,
   "id": "417e5ce9",
   "metadata": {},
   "outputs": [
    {
     "data": {
      "image/png": "[encoded data removed]",
      "text/plain": [
       "<Figure size 432x288 with 1 Axes>"
      ]
     },
     "metadata": {
      "needs_background": "light"
     },
     "output_type": "display_data"
    }
   ],
   "source": [
    "#H\n",
    "import matplotlib.pyplot as plt\n",
    "\n",
    "x=df.Sexo.value_counts().tolist()\n",
    "y=['M','F']\n",
    "plt.bar(y,x, color='m', label='Quantidade por sexo')\n",
    "plt.title(\"Quantidade de Reclamações por Sexo.\")\n",
    "plt.xlabel(\"Sexo\")\n",
    "plt.ylabel(\"Reclamações\")\n",
    "plt.legend()\n",
    "plt.show()"
   ]
  },
  {
   "cell_type": "code",
   "execution_count": 252,
   "id": "da5098a9",
   "metadata": {
    "scrolled": true
   },
   "outputs": [
    {
     "data": {
      "image/png": "[encoded data removed]",
      "text/plain": [
       "<Figure size 432x288 with 1 Axes>"
      ]
     },
     "metadata": {
      "needs_background": "light"
     },
     "output_type": "display_data"
    }
   ],
   "source": [
    "#I\n",
    "x=df.UF.value_counts().tolist()\n",
    "y=df.UF.value_counts().keys().tolist()\n",
    "plt.bar(y,x, color='r', label='Quantidade por Estado')\n",
    "plt.title(\"Quantidade de Reclamações por Estado.\")\n",
    "plt.xlabel(\"Estado\")\n",
    "plt.ylabel(\"Reclamações\")\n",
    "plt.legend()\n",
    "plt.show()"
   ]
  },
  {
   "cell_type": "code",
   "execution_count": 299,
   "id": "9f34218e",
   "metadata": {},
   "outputs": [
    {
     "data": {
      "image/png": "[encoded data removed]",
      "text/plain": [
       "<Figure size 432x288 with 1 Axes>"
      ]
     },
     "metadata": {
      "needs_background": "light"
     },
     "output_type": "display_data"
    }
   ],
   "source": [
    "#J\n",
    "y=df.Respondida.value_counts().tolist()\n",
    "x=df.Respondida.value_counts().keys().tolist()\n",
    "plt.bar(x,y, color='c', label='Quantidade')\n",
    "plt.title(\"Quantidade de Reclamações Respondidas e Não Respondidas.\")\n",
    "plt.xlabel(\"Respondida\")\n",
    "plt.ylabel(\"Reclamações\")\n",
    "plt.legend()\n",
    "plt.show()"
   ]
  },
  {
   "cell_type": "code",
   "execution_count": 300,
   "id": "fc87d539",
   "metadata": {},
   "outputs": [
    {
     "data": {
      "image/png": "[encoded data removed]",
      "text/plain": [
       "<Figure size 432x288 with 1 Axes>"
      ]
     },
     "metadata": {
      "needs_background": "light"
     },
     "output_type": "display_data"
    }
   ],
   "source": [
    "#K\n",
    "x=df['Avaliação Reclamação'].value_counts().tolist()\n",
    "y=df['Avaliação Reclamação'].value_counts().keys().tolist()\n",
    "plt.bar(y,x,color='red',label='Avaliação')\n",
    "\n",
    "a=df['Interação do Gestor'].value_counts().tolist()\n",
    "b=df['Interação do Gestor'].value_counts().keys().tolist()\n",
    "plt.bar(b,a,color='c',label='Interação')\n",
    "\n",
    "plt.title(\"Relação Avaliação Reclamação/Interação do Gestor\")\n",
    "plt.xlabel(\"Qualidade Atendimento\")\n",
    "plt.ylabel(\"Consumidores\")\n",
    "plt.legend(loc='best')\n",
    "plt.show()\n"
   ]
  },
  {
   "cell_type": "code",
   "execution_count": 302,
   "id": "bc059066",
   "metadata": {},
   "outputs": [
    {
     "data": {
      "image/png": "[encoded data removed]",
      "text/plain": [
       "<Figure size 432x288 with 1 Axes>"
      ]
     },
     "metadata": {
      "needs_background": "light"
     },
     "output_type": "display_data"
    }
   ],
   "source": [
    "x=df['Nota do Consumidor'].value_counts().tolist()\n",
    "y=df['Nota do Consumidor'].value_counts().keys().tolist()\n",
    "plt.bar(y,x,color='b',label='Nota')\n",
    "\n",
    "plt.title(\"Nota do Consumidor\")\n",
    "plt.xlabel(\"Qualidade Atendimento\")\n",
    "plt.ylabel(\"Consumidores\")\n",
    "plt.legend(loc='best')\n",
    "plt.show()"
   ]
  },
  {
   "cell_type": "markdown",
   "id": "59600d68",
   "metadata": {},
   "source": [
    "Ao analisar os gráficos acima, onde se nota a interação que o Gestor teve com o consumidor e os problemas que foram ou não resolvidos, é possível entender que falta um melhor atendimento ao Consumidor, ocorrendo com isso notas baixas e muitos problemas não resolvidos. É preciso que a Interação seja melhor trabalhada para que mais problemas sejam resolvidos e consequentemente o consumidor dê uma melhor pontuação."
   ]
  }
 ],
 "metadata": {
  "kernelspec": {
   "display_name": "Python 3 (ipykernel)",
   "language": "python",
   "name": "python3"
  },
  "language_info": {
   "codemirror_mode": {
    "name": "ipython",
    "version": 3
   },
   "file_extension": ".py",
   "mimetype": "text/x-python",
   "name": "python",
   "nbconvert_exporter": "python",
   "pygments_lexer": "ipython3",
   "version": "3.9.12"
  }
 },
 "nbformat": 4,
 "nbformat_minor": 5
}
