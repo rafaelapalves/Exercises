{
 "cells": [
  {
   "cell_type": "code",
   "execution_count": 50,
   "id": "0316f588",
   "metadata": {},
   "outputs": [
    {
     "data": {
      "text/plain": [
       "time.struct_time(tm_year=1970, tm_mon=1, tm_mday=1, tm_hour=0, tm_min=0, tm_sec=0, tm_wday=3, tm_yday=1, tm_isdst=0)"
      ]
     },
     "execution_count": 50,
     "metadata": {},
     "output_type": "execute_result"
    }
   ],
   "source": [
    "#A\n",
    "import time\n",
    "time.gmtime(0)"
   ]
  },
  {
   "cell_type": "code",
   "execution_count": 51,
   "id": "68b28436",
   "metadata": {},
   "outputs": [
    {
     "name": "stdout",
     "output_type": "stream",
     "text": [
      "1655909498.1815717 segundos desde a época\n"
     ]
    }
   ],
   "source": [
    "#B\n",
    "print(time.time(),\"segundos desde a época\")"
   ]
  },
  {
   "cell_type": "code",
   "execution_count": 52,
   "id": "c9fcd689",
   "metadata": {},
   "outputs": [
    {
     "data": {
      "text/plain": [
       "datetime.datetime(2022, 6, 22, 11, 51, 38, 805133)"
      ]
     },
     "execution_count": 52,
     "metadata": {},
     "output_type": "execute_result"
    }
   ],
   "source": [
    "#C\n",
    "import datetime\n",
    "datetime.datetime.now()"
   ]
  },
  {
   "cell_type": "code",
   "execution_count": 53,
   "id": "78746952",
   "metadata": {},
   "outputs": [
    {
     "data": {
      "text/plain": [
       "(11, 51, 39)"
      ]
     },
     "execution_count": 53,
     "metadata": {},
     "output_type": "execute_result"
    }
   ],
   "source": [
    "#D\n",
    "x=time.localtime()\n",
    "x[3:6]"
   ]
  },
  {
   "cell_type": "code",
   "execution_count": 54,
   "id": "2a54f55f",
   "metadata": {},
   "outputs": [
    {
     "name": "stdout",
     "output_type": "stream",
     "text": [
      "Não é horário de verão.\n"
     ]
    }
   ],
   "source": [
    "#E\n",
    "now=time.localtime()\n",
    "if(now.tm_isdst==0):\n",
    "    print(\"Não é horário de verão.\")\n",
    "else:\n",
    "    print(\"Horário de verão.\")"
   ]
  },
  {
   "cell_type": "code",
   "execution_count": null,
   "id": "940cb8bc",
   "metadata": {},
   "outputs": [],
   "source": [
    "#2\n",
    "import time\n",
    "\n",
    "for i in range(5):\n",
    "    print(\"Olá, mundo!\")\n",
    "    time.sleep(3)"
   ]
  },
  {
   "cell_type": "code",
   "execution_count": null,
   "id": "4c82392a",
   "metadata": {},
   "outputs": [],
   "source": [
    "#3\n",
    "import time\n",
    "\n",
    "start=time.time()\n",
    "\n",
    "def hello():\n",
    "    for i in range(5):\n",
    "        print(\"Olá, mundo!\")\n",
    "        time.sleep(3)\n",
    "        \n",
    "hello()\n",
    "end=time.time()\n",
    "\n",
    "print(\"Tempo de execução:\", end-start)"
   ]
  },
  {
   "cell_type": "code",
   "execution_count": null,
   "id": "2a73d7a2",
   "metadata": {},
   "outputs": [],
   "source": [
    "from time import perf_counter\n",
    "\n",
    "start=perf_counter()\n",
    "\n",
    "for i in range(5):\n",
    "    print(\"Olá, mundo!\")\n",
    "    time.sleep(3)\n",
    "    \n",
    "end=perf_counter()\n",
    "\n",
    "print(\"Tempo de execução:\", end-start)"
   ]
  },
  {
   "cell_type": "code",
   "execution_count": null,
   "id": "02bcbf1b",
   "metadata": {},
   "outputs": [],
   "source": [
    "#4\n",
    "import datetime\n",
    "\n",
    "day_delta=datetime.timedelta(days=1)\n",
    "\n",
    "start=datetime.date(1987,10,16)\n",
    "end=datetime.date(1987,10,26)\n",
    "\n",
    "for i in range((end-start).days):\n",
    "    print(start+i*day_delta)"
   ]
  },
  {
   "cell_type": "code",
   "execution_count": null,
   "id": "67cc88e3",
   "metadata": {},
   "outputs": [],
   "source": [
    "#A\n",
    "import time\n",
    "import datetime\n",
    "\n",
    "agora=time.time()\n",
    "time.ctime(agora)"
   ]
  },
  {
   "cell_type": "code",
   "execution_count": null,
   "id": "0b508dd0",
   "metadata": {},
   "outputs": [],
   "source": [
    "#B\n",
    "now=datetime.datetime.now()\n",
    "print(now.year)\n",
    "print(time.strftime(\"%y\"))\n",
    "print(time.strftime(\"%Y\"))"
   ]
  },
  {
   "cell_type": "code",
   "execution_count": null,
   "id": "04cfe0a6",
   "metadata": {},
   "outputs": [],
   "source": [
    "#C\n",
    "print(now.month)\n",
    "print(time.strftime(\"%B\"))"
   ]
  },
  {
   "cell_type": "code",
   "execution_count": null,
   "id": "37a4d719",
   "metadata": {},
   "outputs": [],
   "source": [
    "#D\n",
    "time.strftime(\"%U\")"
   ]
  },
  {
   "cell_type": "code",
   "execution_count": null,
   "id": "1880dd45",
   "metadata": {},
   "outputs": [],
   "source": [
    "#E\n",
    "print(time.strftime(\"%A\"))"
   ]
  },
  {
   "cell_type": "code",
   "execution_count": null,
   "id": "fdff2504",
   "metadata": {},
   "outputs": [],
   "source": [
    "#F\n",
    "time.strftime(\"%j\")"
   ]
  },
  {
   "cell_type": "code",
   "execution_count": null,
   "id": "3f32b1f4",
   "metadata": {},
   "outputs": [],
   "source": [
    "#G\n",
    "print(time.strftime(\"%d\"))"
   ]
  },
  {
   "cell_type": "code",
   "execution_count": null,
   "id": "0e181565",
   "metadata": {},
   "outputs": [],
   "source": [
    "#H\n",
    "print(time.strftime(\"%w\"))"
   ]
  },
  {
   "cell_type": "code",
   "execution_count": null,
   "id": "6f263749",
   "metadata": {},
   "outputs": [],
   "source": [
    "#6\n",
    "from datetime import datetime\n",
    "from datetime import timedelta\n",
    "import locale\n",
    "locale.setlocale(locale.LC_ALL, \"pt_BR\")\n",
    "\n",
    "data='01 de Janeiro de 2021 13h53'\n",
    "\n",
    "newdate=datetime.strptime(data,'%d de %B de %Y %Hh%M')\n",
    "print(newdate)"
   ]
  },
  {
   "cell_type": "code",
   "execution_count": null,
   "id": "36da8e19",
   "metadata": {},
   "outputs": [],
   "source": [
    "#7\n",
    "import datetime\n",
    "\n",
    "first=datetime.date(2021,4,26)\n",
    "second=datetime.timedelta(days=8)\n",
    "final=first-second\n",
    "print(final)"
   ]
  },
  {
   "cell_type": "code",
   "execution_count": null,
   "id": "869f95a5",
   "metadata": {},
   "outputs": [],
   "source": [
    "#8\n",
    "import datetime\n",
    "\n",
    "date1=datetime.date(2022,6,22)\n",
    "date2=datetime.date(2022,6,12)\n",
    "total=date1-date2\n",
    "print(total)"
   ]
  },
  {
   "cell_type": "code",
   "execution_count": null,
   "id": "4b94308d",
   "metadata": {},
   "outputs": [],
   "source": [
    "#9\n",
    "import datetime\n",
    "\n",
    "today = datetime.date.today()\n",
    "\n",
    "before_yesterday=today-datetime.timedelta(days=2)\n",
    "after_tomorrow=today+datetime.timedelta(days=2)\n",
    "\n",
    "print(after_tomorrow-before_yesterday)"
   ]
  }
 ],
 "metadata": {
  "kernelspec": {
   "display_name": "Python 3 (ipykernel)",
   "language": "python",
   "name": "python3"
  },
  "language_info": {
   "codemirror_mode": {
    "name": "ipython",
    "version": 3
   },
   "file_extension": ".py",
   "mimetype": "text/x-python",
   "name": "python",
   "nbconvert_exporter": "python",
   "pygments_lexer": "ipython3",
   "version": "3.9.12"
  }
 },
 "nbformat": 4,
 "nbformat_minor": 5
}
