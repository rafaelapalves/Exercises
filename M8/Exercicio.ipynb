{
 "cells": [
  {
   "cell_type": "code",
   "execution_count": 1,
   "id": "d3d15bac",
   "metadata": {},
   "outputs": [
    {
     "name": "stdout",
     "output_type": "stream",
     "text": [
      "Processo 1\n"
     ]
    }
   ],
   "source": [
    "#1\n",
    "from threading import Thread\n",
    "import threading\n",
    "\n",
    "def proc1():\n",
    "    print(\"Processo 1\")\n",
    "    \n",
    "t1=Thread(target=proc1).start()"
   ]
  },
  {
   "cell_type": "code",
   "execution_count": 2,
   "id": "6add8085",
   "metadata": {},
   "outputs": [
    {
     "data": {
      "text/plain": [
       "False"
      ]
     },
     "execution_count": 2,
     "metadata": {},
     "output_type": "execute_result"
    }
   ],
   "source": [
    "Thread(t1).is_alive()"
   ]
  },
  {
   "cell_type": "code",
   "execution_count": 3,
   "id": "511db276",
   "metadata": {},
   "outputs": [
    {
     "data": {
      "text/plain": [
       "<_MainThread(MainThread, started 704)>"
      ]
     },
     "execution_count": 3,
     "metadata": {},
     "output_type": "execute_result"
    }
   ],
   "source": [
    "import time\n",
    "\n",
    "threading.currentThread()"
   ]
  },
  {
   "cell_type": "code",
   "execution_count": 4,
   "id": "7be050a4",
   "metadata": {},
   "outputs": [
    {
     "data": {
      "text/plain": [
       "704"
      ]
     },
     "execution_count": 4,
     "metadata": {},
     "output_type": "execute_result"
    }
   ],
   "source": [
    "threading.get_ident( )"
   ]
  },
  {
   "cell_type": "code",
   "execution_count": 5,
   "id": "da0ccaef",
   "metadata": {},
   "outputs": [
    {
     "data": {
      "text/plain": [
       "6"
      ]
     },
     "execution_count": 5,
     "metadata": {},
     "output_type": "execute_result"
    }
   ],
   "source": [
    "threading.active_count()"
   ]
  },
  {
   "cell_type": "code",
   "execution_count": 6,
   "id": "e1a6369f",
   "metadata": {},
   "outputs": [
    {
     "data": {
      "text/plain": [
       "[<_MainThread(MainThread, started 704)>,\n",
       " <Thread(IOPub, started daemon 8260)>,\n",
       " <Heartbeat(Heartbeat, started daemon 6280)>,\n",
       " <ControlThread(Control, started daemon 3892)>,\n",
       " <HistorySavingThread(IPythonHistorySavingThread, started 12516)>,\n",
       " <ParentPollerWindows(Thread-4, started daemon 10960)>]"
      ]
     },
     "execution_count": 6,
     "metadata": {},
     "output_type": "execute_result"
    }
   ],
   "source": [
    "threading.enumerate( ) "
   ]
  },
  {
   "cell_type": "code",
   "execution_count": 7,
   "id": "924c0710",
   "metadata": {},
   "outputs": [
    {
     "name": "stdout",
     "output_type": "stream",
     "text": [
      "Processo 1\n",
      "Processo 2\n"
     ]
    }
   ],
   "source": [
    "#2\n",
    "from threading import Thread\n",
    "import threading\n",
    "\n",
    "def proc1():\n",
    "    print(\"Processo 1\")\n",
    "\n",
    "def proc2():\n",
    "    print(\"Processo 2\")\n",
    "    \n",
    "t1=Thread(target=proc1).start()\n",
    "t2=Thread(target=proc2).start()"
   ]
  },
  {
   "cell_type": "code",
   "execution_count": 10,
   "id": "ccbb28bc",
   "metadata": {},
   "outputs": [
    {
     "data": {
      "text/plain": [
       "False"
      ]
     },
     "execution_count": 10,
     "metadata": {},
     "output_type": "execute_result"
    }
   ],
   "source": [
    "Thread(t1).is_alive()"
   ]
  },
  {
   "cell_type": "code",
   "execution_count": 9,
   "id": "a3553860",
   "metadata": {},
   "outputs": [
    {
     "data": {
      "text/plain": [
       "False"
      ]
     },
     "execution_count": 9,
     "metadata": {},
     "output_type": "execute_result"
    }
   ],
   "source": [
    "Thread(t2).is_alive()"
   ]
  },
  {
   "cell_type": "code",
   "execution_count": 52,
   "id": "4d0a2db9",
   "metadata": {},
   "outputs": [],
   "source": [
    "from threading import Thread\n",
    "import threading\n",
    "import time\n",
    "\n",
    "def proc1():\n",
    "    time.sleep(5)\n",
    "    print(\"Processo 1\")\n",
    "    \n",
    "def proc2():\n",
    "    time.sleep(30)\n",
    "    print(\"Processo 2\")\n",
    "    \n",
    "t1=Thread(target=proc1)\n",
    "t2=Thread(target=proc2)\n",
    "\n",
    "t1.start()\n",
    "t2.start()"
   ]
  },
  {
   "cell_type": "code",
   "execution_count": 53,
   "id": "d47a3c53",
   "metadata": {},
   "outputs": [
    {
     "data": {
      "text/plain": [
       "True"
      ]
     },
     "execution_count": 53,
     "metadata": {},
     "output_type": "execute_result"
    }
   ],
   "source": [
    "t1.is_alive()"
   ]
  },
  {
   "cell_type": "code",
   "execution_count": 54,
   "id": "27d8f567",
   "metadata": {},
   "outputs": [
    {
     "data": {
      "text/plain": [
       "True"
      ]
     },
     "execution_count": 54,
     "metadata": {},
     "output_type": "execute_result"
    },
    {
     "name": "stdout",
     "output_type": "stream",
     "text": [
      "Processo 1\n",
      "Processo 2\n"
     ]
    }
   ],
   "source": [
    "t2.is_alive()"
   ]
  },
  {
   "cell_type": "markdown",
   "id": "e81817c3",
   "metadata": {},
   "source": [
    "# 3.a\n",
    "O problema do consumidor produtor é que compartilham um buffer comum de tamanho fixo usado como uma fila. O produtor produz um item e o coloca no buffer. Se o buffer já estiver cheio, o produtor terá que esperar por um bloco vazio no buffer. O consumidor consome um item do buffer. Se o buffer já estiver vazio, o consumidor terá que esperar por um item no buffer.\n",
    "O produtor pode ser lento em comparação ao segmento consumidor ou segmento produtor pode ser rápido na geração de dados em comparação com a velocidade na qual o segmento consumidor está consumindo.\n",
    "Se a taxa na qual os encadeamentos estão operando for diferente, pode haver alguns problemas e é isso que diz o Problema do Produtor-Consumidor.\n",
    "Podemos resolver esse problema com a ajuda do Semaphores , que é uma ferramenta para sincronização entre threads. "
   ]
  },
  {
   "cell_type": "markdown",
   "id": "8b72e58f",
   "metadata": {},
   "source": [
    "# 3.b\n",
    "Problema dos leitores/escritores. Neste problema, um conjunto de tarefas acessam de forma\n",
    "concorrente uma área de memória compartilhada, na qual podem fazer leituras ou\n",
    "escritas de valores. De acordo com as condições de Bernstein, as leituras\n",
    "podem ser feitas em paralelo, pois não interferem umas com as outras, mas as escritas\n",
    "têm de ser feitas com acesso exclusivo à área compartilhada, para evitar condições de\n",
    "disputa. \n",
    "Uma solução para esse problema consistiria em proteger o acesso à\n",
    "área compartilhada com um mutex ou semáforo inicializado em 1; assim, somente um processo por vez poderia acessar a área, garantindo a integridade de todas as operações."
   ]
  }
 ],
 "metadata": {
  "kernelspec": {
   "display_name": "Python 3 (ipykernel)",
   "language": "python",
   "name": "python3"
  },
  "language_info": {
   "codemirror_mode": {
    "name": "ipython",
    "version": 3
   },
   "file_extension": ".py",
   "mimetype": "text/x-python",
   "name": "python",
   "nbconvert_exporter": "python",
   "pygments_lexer": "ipython3",
   "version": "3.9.12"
  }
 },
 "nbformat": 4,
 "nbformat_minor": 5
}
