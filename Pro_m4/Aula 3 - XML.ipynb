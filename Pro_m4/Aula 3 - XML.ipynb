{
 "cells": [
  {
   "cell_type": "markdown",
   "id": "e5c2a031",
   "metadata": {},
   "source": [
    "    O Python possui a biblioteca built-in XML"
   ]
  },
  {
   "cell_type": "code",
   "execution_count": 40,
   "id": "edb4899b",
   "metadata": {},
   "outputs": [
    {
     "name": "stdout",
     "output_type": "stream",
     "text": [
      "Collecting elementpathNote: you may need to restart the kernel to use updated packages.\n",
      "\n",
      "  Using cached elementpath-3.0.2-py3-none-any.whl (189 kB)\n",
      "Installing collected packages: elementpath\n",
      "Successfully installed elementpath-3.0.2\n"
     ]
    }
   ],
   "source": [
    "!pip install elementpath"
   ]
  },
  {
   "cell_type": "code",
   "execution_count": 3,
   "id": "303be476",
   "metadata": {},
   "outputs": [],
   "source": [
    "import xml.etree.ElementTree"
   ]
  },
  {
   "cell_type": "markdown",
   "id": "1018eabb",
   "metadata": {},
   "source": [
    "    Vamos fazer a leitura do nosso arquivo de exemplo do XML"
   ]
  },
  {
   "cell_type": "code",
   "execution_count": 4,
   "id": "3d997b0c",
   "metadata": {},
   "outputs": [
    {
     "ename": "ParseError",
     "evalue": "not well-formed (invalid token): line 1, column 1 (<string>)",
     "output_type": "error",
     "traceback": [
      "Traceback \u001b[1;36m(most recent call last)\u001b[0m:\n",
      "  File \u001b[0;32m~\\anaconda3\\lib\\site-packages\\IPython\\core\\interactiveshell.py:3369\u001b[0m in \u001b[0;35mrun_code\u001b[0m\n    exec(code_obj, self.user_global_ns, self.user_ns)\n",
      "  Input \u001b[0;32mIn [4]\u001b[0m in \u001b[0;35m<cell line: 1>\u001b[0m\n    parsed_xml = ElementTree.parse(\"exemplo_xml.xml\")\n",
      "  File \u001b[0;32m~\\anaconda3\\lib\\xml\\etree\\ElementTree.py:1229\u001b[0m in \u001b[0;35mparse\u001b[0m\n    tree.parse(source, parser)\n",
      "\u001b[1;36m  File \u001b[1;32m~\\anaconda3\\lib\\xml\\etree\\ElementTree.py:580\u001b[1;36m in \u001b[1;35mparse\u001b[1;36m\u001b[0m\n\u001b[1;33m    self._root = parser._parse_whole(source)\u001b[0m\n",
      "\u001b[1;36m  File \u001b[1;32m<string>\u001b[1;36m\u001b[0m\n\u001b[1;31mParseError\u001b[0m\u001b[1;31m:\u001b[0m not well-formed (invalid token): line 1, column 1\n"
     ]
    }
   ],
   "source": [
    "parsed_xml = ElementTree.parse(\"exemplo_xml.xml\")"
   ]
  },
  {
   "cell_type": "markdown",
   "id": "09dfc3f1",
   "metadata": {},
   "source": [
    "    Para extrairmos qual tag é a raiz do XML utilizamos a função getroot"
   ]
  },
  {
   "cell_type": "code",
   "execution_count": 23,
   "id": "b463a021",
   "metadata": {},
   "outputs": [
    {
     "ename": "NameError",
     "evalue": "name 'parsed_xml' is not defined",
     "output_type": "error",
     "traceback": [
      "\u001b[1;31m---------------------------------------------------------------------------\u001b[0m",
      "\u001b[1;31mNameError\u001b[0m                                 Traceback (most recent call last)",
      "Input \u001b[1;32mIn [23]\u001b[0m, in \u001b[0;36m<cell line: 1>\u001b[1;34m()\u001b[0m\n\u001b[1;32m----> 1\u001b[0m root \u001b[38;5;241m=\u001b[39m \u001b[43mparsed_xml\u001b[49m\u001b[38;5;241m.\u001b[39mgetroot()\n",
      "\u001b[1;31mNameError\u001b[0m: name 'parsed_xml' is not defined"
     ]
    }
   ],
   "source": [
    "root = parsed_xml.getroot()"
   ]
  },
  {
   "cell_type": "code",
   "execution_count": 11,
   "id": "570e3f7a",
   "metadata": {},
   "outputs": [
    {
     "ename": "NameError",
     "evalue": "name 'root' is not defined",
     "output_type": "error",
     "traceback": [
      "\u001b[1;31m---------------------------------------------------------------------------\u001b[0m",
      "\u001b[1;31mNameError\u001b[0m                                 Traceback (most recent call last)",
      "Input \u001b[1;32mIn [11]\u001b[0m, in \u001b[0;36m<cell line: 1>\u001b[1;34m()\u001b[0m\n\u001b[1;32m----> 1\u001b[0m \u001b[43mroot\u001b[49m\u001b[38;5;241m.\u001b[39mtag\n",
      "\u001b[1;31mNameError\u001b[0m: name 'root' is not defined"
     ]
    }
   ],
   "source": [
    "root.tag"
   ]
  },
  {
   "cell_type": "raw",
   "id": "0d811383",
   "metadata": {},
   "source": [
    "root.attrib"
   ]
  },
  {
   "cell_type": "code",
   "execution_count": null,
   "id": "14d01efd",
   "metadata": {},
   "outputs": [],
   "source": [
    "root.attrib[\"year\"]"
   ]
  },
  {
   "cell_type": "code",
   "execution_count": null,
   "id": "a108d7bf",
   "metadata": {},
   "outputs": [],
   "source": [
    "root.attrib.get(\"year\")"
   ]
  },
  {
   "cell_type": "markdown",
   "id": "9261240d",
   "metadata": {},
   "source": [
    "    Podemos buscar por tags especificas com a função findall"
   ]
  },
  {
   "cell_type": "code",
   "execution_count": null,
   "id": "d5c84171",
   "metadata": {},
   "outputs": [],
   "source": [
    "[tag.attrib for tag in root.findall(\"python\")]"
   ]
  },
  {
   "cell_type": "code",
   "execution_count": null,
   "id": "904fe3b6",
   "metadata": {},
   "outputs": [],
   "source": [
    "[tag.tag for tag in root.findall(\"python\")]"
   ]
  },
  {
   "cell_type": "code",
   "execution_count": null,
   "id": "02a280d2",
   "metadata": {},
   "outputs": [],
   "source": [
    "[tag.find(\"modulos\").text for tag in root.findall(\"python\")]"
   ]
  }
 ],
 "metadata": {
  "kernelspec": {
   "display_name": "Python 3 (ipykernel)",
   "language": "python",
   "name": "python3"
  },
  "language_info": {
   "codemirror_mode": {
    "name": "ipython",
    "version": 3
   },
   "file_extension": ".py",
   "mimetype": "text/x-python",
   "name": "python",
   "nbconvert_exporter": "python",
   "pygments_lexer": "ipython3",
   "version": "3.9.12"
  }
 },
 "nbformat": 4,
 "nbformat_minor": 5
}
