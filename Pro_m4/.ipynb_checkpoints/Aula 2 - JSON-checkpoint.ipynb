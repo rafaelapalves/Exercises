{
 "cells": [
  {
   "cell_type": "markdown",
   "id": "c009daf1",
   "metadata": {},
   "source": [
    "     A biblioteca built-in JSON possui quatro importantes funções"
   ]
  },
  {
   "cell_type": "code",
   "execution_count": 1,
   "id": "9083e80c",
   "metadata": {},
   "outputs": [],
   "source": [
    "from json import dump, dumps, load, loads"
   ]
  },
  {
   "cell_type": "markdown",
   "id": "899a4463",
   "metadata": {},
   "source": [
    "    Primeiramente vamos criar um arquivo de exemplo"
   ]
  },
  {
   "cell_type": "code",
   "execution_count": 2,
   "id": "95d21ac0",
   "metadata": {},
   "outputs": [],
   "source": [
    "json_exemplo = {\n",
    "    \"chave1\" : \"valor1\",\n",
    "    \"chave2\" : \"valor2\"\n",
    "}"
   ]
  },
  {
   "cell_type": "markdown",
   "id": "b130a16b",
   "metadata": {},
   "source": [
    "    Para fazer a conversão do formato dicionário para string usamos a função dumps"
   ]
  },
  {
   "cell_type": "code",
   "execution_count": 3,
   "id": "80d473e9",
   "metadata": {},
   "outputs": [
    {
     "data": {
      "text/plain": [
       "'{\"chave1\": \"valor1\", \"chave2\": \"valor2\"}'"
      ]
     },
     "execution_count": 3,
     "metadata": {},
     "output_type": "execute_result"
    }
   ],
   "source": [
    "string_json = dumps(json_exemplo)\n",
    "string_json"
   ]
  },
  {
   "cell_type": "markdown",
   "id": "eedbe04f",
   "metadata": {},
   "source": [
    "    Para fazer a conversão de string para dicionário usamos a função loads"
   ]
  },
  {
   "cell_type": "code",
   "execution_count": 4,
   "id": "41e06bef",
   "metadata": {},
   "outputs": [
    {
     "data": {
      "text/plain": [
       "{'chave1': 'valor1', 'chave2': 'valor2'}"
      ]
     },
     "execution_count": 4,
     "metadata": {},
     "output_type": "execute_result"
    }
   ],
   "source": [
    "json_str2dict = loads(string_json)\n",
    "json_str2dict"
   ]
  },
  {
   "cell_type": "markdown",
   "id": "0f16112d",
   "metadata": {},
   "source": [
    "    Para salvar em um arquivo no formato JSON usamos a função dump"
   ]
  },
  {
   "cell_type": "code",
   "execution_count": 5,
   "id": "b120cb72",
   "metadata": {},
   "outputs": [],
   "source": [
    "with open(\"json_exemplo.json\", \"w\") as file:\n",
    "    dump(json_str2dict, file)"
   ]
  },
  {
   "cell_type": "markdown",
   "id": "bc4fc7aa",
   "metadata": {},
   "source": [
    "    Para ler um arquivo JSON usamos a função load"
   ]
  },
  {
   "cell_type": "code",
   "execution_count": 6,
   "id": "8f531dbb",
   "metadata": {},
   "outputs": [
    {
     "data": {
      "text/plain": [
       "{'chave1': 'valor1', 'chave2': 'valor2'}"
      ]
     },
     "execution_count": 6,
     "metadata": {},
     "output_type": "execute_result"
    }
   ],
   "source": [
    "with open(\"json_exemplo.json\") as file:\n",
    "    leitura_do_json = load(file)\n",
    "    \n",
    "leitura_do_json"
   ]
  },
  {
   "cell_type": "code",
   "execution_count": null,
   "id": "13c7fd23",
   "metadata": {},
   "outputs": [],
   "source": []
  }
 ],
 "metadata": {
  "kernelspec": {
   "display_name": "Python 3 (ipykernel)",
   "language": "python",
   "name": "python3"
  },
  "language_info": {
   "codemirror_mode": {
    "name": "ipython",
    "version": 3
   },
   "file_extension": ".py",
   "mimetype": "text/x-python",
   "name": "python",
   "nbconvert_exporter": "python",
   "pygments_lexer": "ipython3",
   "version": "3.9.12"
  }
 },
 "nbformat": 4,
 "nbformat_minor": 5
}
