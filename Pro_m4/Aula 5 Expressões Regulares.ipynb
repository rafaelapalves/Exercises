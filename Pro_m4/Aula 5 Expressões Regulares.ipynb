{
 "cells": [
  {
   "cell_type": "markdown",
   "id": "b1d43686",
   "metadata": {},
   "source": [
    "    Vamos importar as funções findall e search da biblioteca built-in do Python"
   ]
  },
  {
   "cell_type": "code",
   "execution_count": 1,
   "id": "56f495ef",
   "metadata": {},
   "outputs": [],
   "source": [
    "from re import findall, search"
   ]
  },
  {
   "cell_type": "markdown",
   "id": "919f9b9e",
   "metadata": {},
   "source": [
    "    Vamos começar com um texto simples como exemplo"
   ]
  },
  {
   "cell_type": "code",
   "execution_count": 2,
   "id": "d0f4ff58",
   "metadata": {},
   "outputs": [],
   "source": [
    "texto = \"Estamos estudando Python no curso Python Pro da Mentorama\""
   ]
  },
  {
   "cell_type": "code",
   "execution_count": 3,
   "id": "8497af22",
   "metadata": {},
   "outputs": [
    {
     "data": {
      "text/plain": [
       "['da', 'da']"
      ]
     },
     "execution_count": 3,
     "metadata": {},
     "output_type": "execute_result"
    }
   ],
   "source": [
    "findall(\"da\", texto)"
   ]
  },
  {
   "cell_type": "code",
   "execution_count": 4,
   "id": "aeacbdee",
   "metadata": {},
   "outputs": [
    {
     "data": {
      "text/plain": [
       "12"
      ]
     },
     "execution_count": 4,
     "metadata": {},
     "output_type": "execute_result"
    }
   ],
   "source": [
    "search(\"da\", texto).start()"
   ]
  },
  {
   "cell_type": "code",
   "execution_count": 5,
   "id": "b9e37637",
   "metadata": {},
   "outputs": [
    {
     "data": {
      "text/plain": [
       "12"
      ]
     },
     "execution_count": 5,
     "metadata": {},
     "output_type": "execute_result"
    }
   ],
   "source": [
    "texto.index(\"da\")"
   ]
  },
  {
   "cell_type": "markdown",
   "id": "31802059",
   "metadata": {},
   "source": [
    "    Podemos também retirar caracteres especiais dos textos"
   ]
  },
  {
   "cell_type": "code",
   "execution_count": 8,
   "id": "b4e75c3b",
   "metadata": {},
   "outputs": [],
   "source": [
    "texto_com_caracteres_especiais = \"Estamos @ estudando #Python no curso 1 Python Pro da Mentorama\""
   ]
  },
  {
   "cell_type": "code",
   "execution_count": 9,
   "id": "267d9866",
   "metadata": {},
   "outputs": [
    {
     "data": {
      "text/plain": [
       "['Estamos',\n",
       " 'estudando',\n",
       " 'Python',\n",
       " 'no',\n",
       " 'curso',\n",
       " '1',\n",
       " 'Python',\n",
       " 'Pro',\n",
       " 'da',\n",
       " 'Mentorama']"
      ]
     },
     "execution_count": 9,
     "metadata": {},
     "output_type": "execute_result"
    }
   ],
   "source": [
    "findall(r\"\\w+\", texto_com_caracteres_especiais)"
   ]
  },
  {
   "cell_type": "markdown",
   "id": "e5c8b562",
   "metadata": {},
   "source": [
    "    Quando não sabemos se um caractere está presente ou não. podemos utilizar o ponto"
   ]
  },
  {
   "cell_type": "code",
   "execution_count": 10,
   "id": "243b2066",
   "metadata": {},
   "outputs": [
    {
     "data": {
      "text/plain": [
       "['Python', 'Python']"
      ]
     },
     "execution_count": 10,
     "metadata": {},
     "output_type": "execute_result"
    }
   ],
   "source": [
    "findall(r\"P.thon\", texto)"
   ]
  },
  {
   "cell_type": "code",
   "execution_count": 12,
   "id": "e1d8d80f",
   "metadata": {},
   "outputs": [
    {
     "data": {
      "text/plain": [
       "'Estamos estudando Python no curso 1 Python Pro da Mentorama'"
      ]
     },
     "execution_count": 12,
     "metadata": {},
     "output_type": "execute_result"
    }
   ],
   "source": [
    "palavras = findall(r\"\\w+\", texto_com_caracteres_especiais)\n",
    "\" \".join(palavras)"
   ]
  },
  {
   "cell_type": "markdown",
   "id": "dd32ca5e",
   "metadata": {},
   "source": [
    "    Podemos também buscar apenas pela ocorrência inicial da palavra"
   ]
  },
  {
   "cell_type": "code",
   "execution_count": 13,
   "id": "022e8d32",
   "metadata": {},
   "outputs": [
    {
     "data": {
      "text/plain": [
       "['py', 'py', 'py']"
      ]
     },
     "execution_count": 13,
     "metadata": {},
     "output_type": "execute_result"
    }
   ],
   "source": [
    "padrao = r\"\\bpy\"\n",
    "texto = \"python é uma linguagem pythonica e os seus arquivos possuem a extensao py\"\n",
    "\n",
    "findall(padrao, texto)"
   ]
  },
  {
   "cell_type": "code",
   "execution_count": 14,
   "id": "81725665",
   "metadata": {},
   "outputs": [
    {
     "data": {
      "text/plain": [
       "['py']"
      ]
     },
     "execution_count": 14,
     "metadata": {},
     "output_type": "execute_result"
    }
   ],
   "source": [
    "padrao = r\"py\\b\"\n",
    "\n",
    "findall(padrao, texto)"
   ]
  },
  {
   "cell_type": "code",
   "execution_count": null,
   "id": "77320bf3",
   "metadata": {},
   "outputs": [],
   "source": []
  }
 ],
 "metadata": {
  "kernelspec": {
   "display_name": "Python 3 (ipykernel)",
   "language": "python",
   "name": "python3"
  },
  "language_info": {
   "codemirror_mode": {
    "name": "ipython",
    "version": 3
   },
   "file_extension": ".py",
   "mimetype": "text/x-python",
   "name": "python",
   "nbconvert_exporter": "python",
   "pygments_lexer": "ipython3",
   "version": "3.9.12"
  }
 },
 "nbformat": 4,
 "nbformat_minor": 5
}
