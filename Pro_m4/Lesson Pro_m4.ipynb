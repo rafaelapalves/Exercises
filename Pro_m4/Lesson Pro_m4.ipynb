{
 "cells": [
  {
   "cell_type": "code",
   "execution_count": 2,
   "id": "880b6ff8",
   "metadata": {},
   "outputs": [],
   "source": [
    "from requests import get\n",
    "from bs4 import BeautifulSoup\n",
    "import re"
   ]
  },
  {
   "cell_type": "code",
   "execution_count": 3,
   "id": "f54b9de3",
   "metadata": {},
   "outputs": [],
   "source": [
    "exemplo = get(\"https://www.w3schools.io/file/yaml-sample-example/\")"
   ]
  },
  {
   "cell_type": "code",
   "execution_count": 4,
   "id": "ab3be69f",
   "metadata": {},
   "outputs": [],
   "source": [
    "tags = BeautifulSoup(exemplo.text, \"html5lib\")"
   ]
  },
  {
   "cell_type": "code",
   "execution_count": 5,
   "id": "e9a0b35e",
   "metadata": {},
   "outputs": [],
   "source": [
    "tag_pre = tags.find_all(\"pre\")"
   ]
  },
  {
   "cell_type": "code",
   "execution_count": 6,
   "id": "52dbebac",
   "metadata": {},
   "outputs": [],
   "source": [
    "exemplo_text = tags.find_all(\"code\", attrs = {\"class\" : \"language-Yaml\"})\n",
    "list_text = [code.text for code in exemplo_text]"
   ]
  },
  {
   "cell_type": "code",
   "execution_count": 7,
   "id": "395450e2",
   "metadata": {},
   "outputs": [],
   "source": [
    "text = ' '.join(list_text)"
   ]
  },
  {
   "cell_type": "code",
   "execution_count": 8,
   "id": "b202ba41",
   "metadata": {},
   "outputs": [],
   "source": [
    "with open(\"exemplo.yaml\", \"w\") as texto:\n",
    "    texto.write(text)"
   ]
  },
  {
   "cell_type": "code",
   "execution_count": 9,
   "id": "38123ba9",
   "metadata": {},
   "outputs": [],
   "source": [
    "coments_text = tags.find_all(\"span\", attrs = {\"class\" : \"c\"})\n",
    "list_coments = [span.text for span in coments_text]"
   ]
  },
  {
   "cell_type": "code",
   "execution_count": 10,
   "id": "2a01cf0b",
   "metadata": {},
   "outputs": [],
   "source": [
    "coments = []\n",
    "for i in list_coments:\n",
    "    coments.append(re.findall(r'\\w+', i))\n",
    "    \n",
    "coments_final = []\n",
    "for j in coments:\n",
    "    coments_final.append(\" \".join(j))"
   ]
  },
  {
   "cell_type": "code",
   "execution_count": 11,
   "id": "60b0ac56",
   "metadata": {},
   "outputs": [
    {
     "data": {
      "text/plain": [
       "['yaml document beginning',\n",
       " 'comment syntax',\n",
       " 'basic syntax key and value separated by colon and space before the value',\n",
       " 'Scalar data types',\n",
       " 'integer value',\n",
       " 'floating vale',\n",
       " 'string with double quotes',\n",
       " 'string with single quotes',\n",
       " 'string without quotes',\n",
       " 'boolean values true or false',\n",
       " 'Multiline string with literal block syntax preserved new lines',\n",
       " 'Multiline strings with folded block syntax new lines are not preserved leading and trailing spaces are ignore',\n",
       " 'Collection sequence data types',\n",
       " 'sequence arraylist example',\n",
       " 'another way of sequence syntax example',\n",
       " 'dictionary']"
      ]
     },
     "execution_count": 11,
     "metadata": {},
     "output_type": "execute_result"
    }
   ],
   "source": [
    "coments_final"
   ]
  },
  {
   "cell_type": "code",
   "execution_count": 17,
   "id": "7179e363",
   "metadata": {},
   "outputs": [],
   "source": [
    "final = \" \".join(coments_final)"
   ]
  },
  {
   "cell_type": "code",
   "execution_count": 18,
   "id": "ed59482a",
   "metadata": {},
   "outputs": [],
   "source": [
    "with open(\"coments.yaml\", \"w\") as arquivo:\n",
    "    arquivo.write(final)"
   ]
  },
  {
   "cell_type": "code",
   "execution_count": null,
   "id": "20016914",
   "metadata": {},
   "outputs": [],
   "source": []
  }
 ],
 "metadata": {
  "kernelspec": {
   "display_name": "Python 3 (ipykernel)",
   "language": "python",
   "name": "python3"
  },
  "language_info": {
   "codemirror_mode": {
    "name": "ipython",
    "version": 3
   },
   "file_extension": ".py",
   "mimetype": "text/x-python",
   "name": "python",
   "nbconvert_exporter": "python",
   "pygments_lexer": "ipython3",
   "version": "3.9.12"
  }
 },
 "nbformat": 4,
 "nbformat_minor": 5
}
