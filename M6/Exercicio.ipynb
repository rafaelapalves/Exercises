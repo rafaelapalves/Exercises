{
 "cells": [
  {
   "cell_type": "code",
   "execution_count": 1,
   "id": "05290e19",
   "metadata": {},
   "outputs": [
    {
     "data": {
      "text/plain": [
       "<sqlite3.Cursor at 0x16bc2348260>"
      ]
     },
     "execution_count": 1,
     "metadata": {},
     "output_type": "execute_result"
    }
   ],
   "source": [
    "import sqlite3\n",
    "\n",
    "banco=sqlite3.connect(\"Empresa.db\")\n",
    "cursor=banco.cursor()\n",
    "\n",
    "Funcionarios=[('1','Harry','James','Potter','1980-07-31','000.000.000-00','000000','Rua dos Alfeneiros','70.000-00','Surrey','9000-0000','1','Chefe do Departamento','12345,00'),\n",
    "    ('2','Hermione','Jean','Granger','1979-09-19','111.111.111-11','111111','Rua Heathgate','70.000-00','Hampstead','9111-1111','1','Ministra da Magia','19876,00'),\n",
    "    ('3','Ronald','Abilio','Weasley','1980-03-01','222.222.222-22','222222','A Toca','70.000-00','Devon','9222-2222','2','Gerente','9876,00'),\n",
    "    ('4','Luna','Scamander','Lovegood','1981-02-13','333.333.333-33','333333','Ottery','70.000-00','St. Catchpole','9333-3333','3','Magizoologista','8765,00'),\n",
    "    ('5','Ginevra','Molly','Weasley','1981-08-11','444.444.444-44','444444','A Toca','70.000-00','Devon','9444-4444','4','Apanhadora','9876,00'),\n",
    "    ('6','Neville','Longbottom','Professor','1980-07-30','555.555.555-55','555555','Grifinoria','70.000-00','Hogwarts','9555-5555','5','Professor de Herbologia','8765,00'),\n",
    "    ('7','Draco','Lucio','Malfoy','1980-06-05','666.666.666-66','666666','Sonserina','70.000-00','Hogwarts','9666-6666','1','Auror','8765,00'),\n",
    "    ('8','Newton','Artemis','Scamander','1897-02-24','777.777.777.-77','777777','Lufa-lufa','70.000-00','Hogwarts','9777-7777','3','Magizoologista','9876,00'),\n",
    "    ('9','Porpentina','Esther','Goldstein','1901-08-19','888.888.888-88','888888','Pássaro-Trovão','70.000-00','Ilvermorny','9888-8888','1','Auror','9876,00'),\n",
    "    ('10','Alvo','Percival','Dumbledore','1881-08-21','999.999.999-99','999999','Diretoria','70.000-00','Hogwarts','9999-9999','5','Diretor','12345,00')]\n",
    "\n",
    "#criar tabela de Funcionários\n",
    "cursor.execute(\"\"\"create table Funcionarios(Codigo integer, PrimeiroNome text, SegundoNome text, UltimoNome text, DataNasci date, CPF text, RG text, Endereço text, CEP text, Cidade text, Fone text, CodigoDepartamento integer, Funcao text, Salario real)\"\"\")"
   ]
  },
  {
   "cell_type": "code",
   "execution_count": 2,
   "id": "6e68eab9",
   "metadata": {},
   "outputs": [
    {
     "name": "stdout",
     "output_type": "stream",
     "text": [
      "[(1, 'Harry', 'James', 'Potter', '1980-07-31', '000.000.000-00', '000000', 'Rua dos Alfeneiros', '70.000-00', 'Surrey', '9000-0000', 1, 'Chefe do Departamento', '12345,00'), (2, 'Hermione', 'Jean', 'Granger', '1979-09-19', '111.111.111-11', '111111', 'Rua Heathgate', '70.000-00', 'Hampstead', '9111-1111', 1, 'Ministra da Magia', '19876,00'), (3, 'Ronald', 'Abilio', 'Weasley', '1980-03-01', '222.222.222-22', '222222', 'A Toca', '70.000-00', 'Devon', '9222-2222', 2, 'Gerente', '9876,00'), (4, 'Luna', 'Scamander', 'Lovegood', '1981-02-13', '333.333.333-33', '333333', 'Ottery', '70.000-00', 'St. Catchpole', '9333-3333', 3, 'Magizoologista', '8765,00'), (5, 'Ginevra', 'Molly', 'Weasley', '1981-08-11', '444.444.444-44', '444444', 'A Toca', '70.000-00', 'Devon', '9444-4444', 4, 'Apanhadora', '9876,00'), (6, 'Neville', 'Longbottom', 'Professor', '1980-07-30', '555.555.555-55', '555555', 'Grifinoria', '70.000-00', 'Hogwarts', '9555-5555', 5, 'Professor de Herbologia', '8765,00'), (7, 'Draco', 'Lucio', 'Malfoy', '1980-06-05', '666.666.666-66', '666666', 'Sonserina', '70.000-00', 'Hogwarts', '9666-6666', 1, 'Auror', '8765,00'), (8, 'Newton', 'Artemis', 'Scamander', '1897-02-24', '777.777.777.-77', '777777', 'Lufa-lufa', '70.000-00', 'Hogwarts', '9777-7777', 3, 'Magizoologista', '9876,00'), (9, 'Porpentina', 'Esther', 'Goldstein', '1901-08-19', '888.888.888-88', '888888', 'Pássaro-Trovão', '70.000-00', 'Ilvermorny', '9888-8888', 1, 'Auror', '9876,00'), (10, 'Alvo', 'Percival', 'Dumbledore', '1881-08-21', '999.999.999-99', '999999', 'Diretoria', '70.000-00', 'Hogwarts', '9999-9999', 5, 'Diretor', '12345,00')]\n"
     ]
    }
   ],
   "source": [
    "#Inserir dados na tabela\n",
    "cursor.executemany(\"\"\"insert into Funcionarios values(?,?,?,?,?,?,?,?,?,?,?,?,?,?)\"\"\",Funcionarios)\n",
    "banco.commit()\n",
    "#consulta dados da tabela\n",
    "cursor.execute(\"select * from Funcionarios\")\n",
    "print(cursor.fetchall())"
   ]
  },
  {
   "cell_type": "code",
   "execution_count": 3,
   "id": "201977e0",
   "metadata": {},
   "outputs": [
    {
     "data": {
      "text/plain": [
       "<sqlite3.Cursor at 0x16bc2348260>"
      ]
     },
     "execution_count": 3,
     "metadata": {},
     "output_type": "execute_result"
    }
   ],
   "source": [
    "Departamento=[('1','Ministerio da Magia','Londres','123'),\n",
    "             ('2','Gemialidades','Beco Diagonal','234'),\n",
    "             ('3','Pesquisa','Londres','345'),\n",
    "             ('4','Quadribol','Londres','456'),\n",
    "             ('5','Ensino','Hogwarts','567')]\n",
    "\n",
    "cursor.execute(\"\"\"create table Departamento(CodigoDepartamento integer, Nome text, Localizacao text, CodigoFuncionarioGerente)\"\"\")"
   ]
  },
  {
   "cell_type": "code",
   "execution_count": 4,
   "id": "46418215",
   "metadata": {},
   "outputs": [
    {
     "name": "stdout",
     "output_type": "stream",
     "text": [
      "[(1, 'Ministerio da Magia', 'Londres', '123'), (2, 'Gemialidades', 'Beco Diagonal', '234'), (3, 'Pesquisa', 'Londres', '345'), (4, 'Quadribol', 'Londres', '456'), (5, 'Ensino', 'Hogwarts', '567')]\n"
     ]
    }
   ],
   "source": [
    "cursor.executemany(\"\"\"insert into Departamento values(?,?,?,?)\"\"\",Departamento)\n",
    "banco.commit()\n",
    "#consulta dados da tabela\n",
    "cursor.execute(\"select * from Departamento\")\n",
    "print(cursor.fetchall())"
   ]
  },
  {
   "cell_type": "code",
   "execution_count": 5,
   "id": "8823be93",
   "metadata": {},
   "outputs": [
    {
     "name": "stdout",
     "output_type": "stream",
     "text": [
      "[('Alvo', 'Dumbledore'), ('Porpentina', 'Goldstein'), ('Hermione', 'Granger'), ('Luna', 'Lovegood'), ('Draco', 'Malfoy'), ('Harry', 'Potter'), ('Neville', 'Professor'), ('Newton', 'Scamander'), ('Ronald', 'Weasley'), ('Ginevra', 'Weasley')]\n"
     ]
    }
   ],
   "source": [
    "#A\n",
    "cursor.execute(\"\"\"SELECT PrimeiroNome, UltimoNome\n",
    "               FROM Funcionarios \n",
    "               ORDER BY UltimoNome\"\"\")\n",
    "print(cursor.fetchall())"
   ]
  },
  {
   "cell_type": "code",
   "execution_count": 6,
   "id": "6bba5022",
   "metadata": {},
   "outputs": [
    {
     "name": "stdout",
     "output_type": "stream",
     "text": [
      "[(3, 'Ronald', 'Abilio', 'Weasley', '1980-03-01', '222.222.222-22', '222222', 'A Toca', '70.000-00', 'Devon', '9222-2222', 2, 'Gerente', '9876,00'), (5, 'Ginevra', 'Molly', 'Weasley', '1981-08-11', '444.444.444-44', '444444', 'A Toca', '70.000-00', 'Devon', '9444-4444', 4, 'Apanhadora', '9876,00'), (2, 'Hermione', 'Jean', 'Granger', '1979-09-19', '111.111.111-11', '111111', 'Rua Heathgate', '70.000-00', 'Hampstead', '9111-1111', 1, 'Ministra da Magia', '19876,00'), (6, 'Neville', 'Longbottom', 'Professor', '1980-07-30', '555.555.555-55', '555555', 'Grifinoria', '70.000-00', 'Hogwarts', '9555-5555', 5, 'Professor de Herbologia', '8765,00'), (7, 'Draco', 'Lucio', 'Malfoy', '1980-06-05', '666.666.666-66', '666666', 'Sonserina', '70.000-00', 'Hogwarts', '9666-6666', 1, 'Auror', '8765,00'), (8, 'Newton', 'Artemis', 'Scamander', '1897-02-24', '777.777.777.-77', '777777', 'Lufa-lufa', '70.000-00', 'Hogwarts', '9777-7777', 3, 'Magizoologista', '9876,00'), (10, 'Alvo', 'Percival', 'Dumbledore', '1881-08-21', '999.999.999-99', '999999', 'Diretoria', '70.000-00', 'Hogwarts', '9999-9999', 5, 'Diretor', '12345,00'), (9, 'Porpentina', 'Esther', 'Goldstein', '1901-08-19', '888.888.888-88', '888888', 'Pássaro-Trovão', '70.000-00', 'Ilvermorny', '9888-8888', 1, 'Auror', '9876,00'), (4, 'Luna', 'Scamander', 'Lovegood', '1981-02-13', '333.333.333-33', '333333', 'Ottery', '70.000-00', 'St. Catchpole', '9333-3333', 3, 'Magizoologista', '8765,00'), (1, 'Harry', 'James', 'Potter', '1980-07-31', '000.000.000-00', '000000', 'Rua dos Alfeneiros', '70.000-00', 'Surrey', '9000-0000', 1, 'Chefe do Departamento', '12345,00')]\n"
     ]
    }
   ],
   "source": [
    "#B\n",
    "cursor.execute(\"\"\"SELECT * FROM Funcionarios \n",
    "               ORDER BY Cidade\"\"\")\n",
    "print(cursor.fetchall())"
   ]
  },
  {
   "cell_type": "code",
   "execution_count": 7,
   "id": "3bafb404",
   "metadata": {},
   "outputs": [
    {
     "name": "stdout",
     "output_type": "stream",
     "text": [
      "[(10, 'Alvo', 'Percival', 'Dumbledore', '1881-08-21', '999.999.999-99', '999999', 'Diretoria', '70.000-00', 'Hogwarts', '9999-9999', 5, 'Diretor', '12345,00'), (7, 'Draco', 'Lucio', 'Malfoy', '1980-06-05', '666.666.666-66', '666666', 'Sonserina', '70.000-00', 'Hogwarts', '9666-6666', 1, 'Auror', '8765,00'), (5, 'Ginevra', 'Molly', 'Weasley', '1981-08-11', '444.444.444-44', '444444', 'A Toca', '70.000-00', 'Devon', '9444-4444', 4, 'Apanhadora', '9876,00'), (1, 'Harry', 'James', 'Potter', '1980-07-31', '000.000.000-00', '000000', 'Rua dos Alfeneiros', '70.000-00', 'Surrey', '9000-0000', 1, 'Chefe do Departamento', '12345,00'), (2, 'Hermione', 'Jean', 'Granger', '1979-09-19', '111.111.111-11', '111111', 'Rua Heathgate', '70.000-00', 'Hampstead', '9111-1111', 1, 'Ministra da Magia', '19876,00'), (4, 'Luna', 'Scamander', 'Lovegood', '1981-02-13', '333.333.333-33', '333333', 'Ottery', '70.000-00', 'St. Catchpole', '9333-3333', 3, 'Magizoologista', '8765,00'), (6, 'Neville', 'Longbottom', 'Professor', '1980-07-30', '555.555.555-55', '555555', 'Grifinoria', '70.000-00', 'Hogwarts', '9555-5555', 5, 'Professor de Herbologia', '8765,00'), (8, 'Newton', 'Artemis', 'Scamander', '1897-02-24', '777.777.777.-77', '777777', 'Lufa-lufa', '70.000-00', 'Hogwarts', '9777-7777', 3, 'Magizoologista', '9876,00'), (9, 'Porpentina', 'Esther', 'Goldstein', '1901-08-19', '888.888.888-88', '888888', 'Pássaro-Trovão', '70.000-00', 'Ilvermorny', '9888-8888', 1, 'Auror', '9876,00'), (3, 'Ronald', 'Abilio', 'Weasley', '1980-03-01', '222.222.222-22', '222222', 'A Toca', '70.000-00', 'Devon', '9222-2222', 2, 'Gerente', '9876,00')]\n"
     ]
    }
   ],
   "source": [
    "#C\n",
    "cursor.execute(\"\"\"SELECT *\n",
    "               FROM Funcionarios \n",
    "               WHERE Salario>1000\n",
    "               ORDER BY PrimeiroNome, SegundoNome, UltimoNome\"\"\")\n",
    "print(cursor.fetchall())"
   ]
  },
  {
   "cell_type": "code",
   "execution_count": 8,
   "id": "6383a08c",
   "metadata": {},
   "outputs": [
    {
     "name": "stdout",
     "output_type": "stream",
     "text": [
      "[('1981-08-11', 'Ginevra'), ('1981-02-13', 'Luna'), ('1980-07-31', 'Harry'), ('1980-07-30', 'Neville'), ('1980-06-05', 'Draco'), ('1980-03-01', 'Ronald'), ('1979-09-19', 'Hermione'), ('1901-08-19', 'Porpentina'), ('1897-02-24', 'Newton'), ('1881-08-21', 'Alvo')]\n"
     ]
    }
   ],
   "source": [
    "#D\n",
    "cursor.execute(\"\"\"SELECT DataNasci, PrimeiroNome\n",
    "               FROM Funcionarios \n",
    "               ORDER BY DataNasci DESC\"\"\")\n",
    "print(cursor.fetchall())"
   ]
  },
  {
   "cell_type": "code",
   "execution_count": 9,
   "id": "80339fd4",
   "metadata": {},
   "outputs": [
    {
     "name": "stdout",
     "output_type": "stream",
     "text": [
      "[(110365.0,)]\n"
     ]
    }
   ],
   "source": [
    "#E\n",
    "cursor.execute(\"\"\"SELECT SUM(Salario)\n",
    "               FROM Funcionarios \"\"\")\n",
    "print(cursor.fetchall())"
   ]
  },
  {
   "cell_type": "code",
   "execution_count": 11,
   "id": "de8f3ac3",
   "metadata": {},
   "outputs": [
    {
     "name": "stdout",
     "output_type": "stream",
     "text": [
      "[('Alvo', 'Ensino', 'Diretor'), ('Draco', 'Ministerio da Magia', 'Auror'), ('Ginevra', 'Quadribol', 'Apanhadora'), ('Harry', 'Ministerio da Magia', 'Chefe do Departamento'), ('Hermione', 'Ministerio da Magia', 'Ministra da Magia'), ('Luna', 'Pesquisa', 'Magizoologista'), ('Neville', 'Ensino', 'Professor de Herbologia'), ('Newton', 'Pesquisa', 'Magizoologista'), ('Porpentina', 'Ministerio da Magia', 'Auror'), ('Ronald', 'Gemialidades', 'Gerente')]\n"
     ]
    }
   ],
   "source": [
    "#F\n",
    "cursor.execute(\"\"\"SELECT Funcionarios.PrimeiroNome, Departamento.Nome, Funcionarios.Funcao\n",
    "               FROM Funcionarios JOIN Departamento\n",
    "               On Funcionarios.CodigoDepartamento=Departamento.CodigoDepartamento\n",
    "               ORDER BY Funcionarios.PrimeiroNome\"\"\")\n",
    "print(cursor.fetchall())"
   ]
  },
  {
   "cell_type": "code",
   "execution_count": 12,
   "id": "ae1429bc",
   "metadata": {},
   "outputs": [
    {
     "name": "stdout",
     "output_type": "stream",
     "text": [
      "[(10,)]\n"
     ]
    }
   ],
   "source": [
    "#G\n",
    "cursor.execute(\"\"\"SELECT COUNT(*)\n",
    "               FROM Funcionarios \"\"\")\n",
    "print(cursor.fetchall())"
   ]
  },
  {
   "cell_type": "code",
   "execution_count": 13,
   "id": "dbf2b2bf",
   "metadata": {},
   "outputs": [
    {
     "name": "stdout",
     "output_type": "stream",
     "text": [
      "[('Ensino', 'Alvo', 'Percival', 'Dumbledore'), ('Ensino', 'Neville', 'Longbottom', 'Professor'), ('Gemialidades', 'Ronald', 'Abilio', 'Weasley'), ('Ministerio da Magia', 'Draco', 'Lucio', 'Malfoy'), ('Ministerio da Magia', 'Harry', 'James', 'Potter'), ('Ministerio da Magia', 'Hermione', 'Jean', 'Granger'), ('Ministerio da Magia', 'Porpentina', 'Esther', 'Goldstein'), ('Pesquisa', 'Luna', 'Scamander', 'Lovegood'), ('Pesquisa', 'Newton', 'Artemis', 'Scamander'), ('Quadribol', 'Ginevra', 'Molly', 'Weasley')]\n"
     ]
    }
   ],
   "source": [
    "#H\n",
    "cursor.execute(\"\"\"SELECT Departamento.Nome, Funcionarios.PrimeiroNome, Funcionarios.SegundoNome, Funcionarios.UltimoNome\n",
    "               FROM Departamento JOIN Funcionarios\n",
    "               On Departamento.CodigoDepartamento=Funcionarios.CodigoDepartamento\n",
    "               ORDER BY Departamento.Nome, Funcionarios.PrimeiroNome\"\"\")\n",
    "print(cursor.fetchall())"
   ]
  },
  {
   "cell_type": "code",
   "execution_count": null,
   "id": "4a1bcc5f",
   "metadata": {},
   "outputs": [],
   "source": []
  }
 ],
 "metadata": {
  "kernelspec": {
   "display_name": "Python 3 (ipykernel)",
   "language": "python",
   "name": "python3"
  },
  "language_info": {
   "codemirror_mode": {
    "name": "ipython",
    "version": 3
   },
   "file_extension": ".py",
   "mimetype": "text/x-python",
   "name": "python",
   "nbconvert_exporter": "python",
   "pygments_lexer": "ipython3",
   "version": "3.9.12"
  }
 },
 "nbformat": 4,
 "nbformat_minor": 5
}
